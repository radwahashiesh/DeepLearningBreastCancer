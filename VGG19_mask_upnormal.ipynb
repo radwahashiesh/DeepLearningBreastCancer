{
  "nbformat": 4,
  "nbformat_minor": 0,
  "metadata": {
    "colab": {
      "name": "VGG19_mask_upnormal.ipynb",
      "provenance": [],
      "collapsed_sections": []
    },
    "kernelspec": {
      "name": "python3",
      "display_name": "Python 3"
    },
    "language_info": {
      "name": "python"
    },
    "accelerator": "GPU",
    "gpuClass": "standard"
  },
  "cells": [
    {
      "cell_type": "code",
      "execution_count": 4,
      "metadata": {
        "id": "16fDcWvz4tQv"
      },
      "outputs": [],
      "source": [
        "import numpy as np \n",
        "import pandas as pd\n",
        "import os\n",
        "from tensorflow import keras\n",
        "import cv2\n",
        "from sklearn.metrics import accuracy_score, confusion_matrix, roc_curve, roc_auc_score, classification_report\n",
        "from tensorflow.keras.preprocessing.image import load_img ,img_to_array\n",
        "import matplotlib.pyplot as plt\n",
        "from tensorflow.keras.models import Sequential \n",
        "from tensorflow.keras.layers import Conv2D\n",
        "from tensorflow.keras.layers import MaxPooling2D,AveragePooling2D,BatchNormalization\n",
        "from tensorflow.keras.layers import Dense,Activation\n",
        "from tensorflow.keras.layers import Flatten,Dropout,SpatialDropout2D,AveragePooling2D,GlobalAveragePooling2D\n",
        "from tensorflow.keras.optimizers import SGD\n",
        "from tensorflow.keras.optimizers import Adam\n",
        "import tensorflow as tf\n",
        "import tensorflow.keras\n",
        "from tensorflow.keras.models import Sequential\n",
        "from tensorflow.keras.layers import Dense, Flatten, Conv2D, MaxPooling2D\n",
        "# from tensorflow.keras import backend as K\n",
        "# Common imports\n",
        "import numpy as np\n",
        "import os\n",
        "import timeit\n",
        "from sklearn.neural_network import MLPClassifier\n",
        " "
      ]
    },
    {
      "cell_type": "code",
      "source": [
        "from google.colab import drive\n",
        "drive.mount('/content/drive')"
      ],
      "metadata": {
        "colab": {
          "base_uri": "https://localhost:8080/"
        },
        "id": "2iQuCxXjrzsR",
        "outputId": "a0f884a0-012c-49b5-e0a2-79dc8d4b47f7"
      },
      "execution_count": 3,
      "outputs": [
        {
          "output_type": "stream",
          "name": "stdout",
          "text": [
            "Mounted at /content/drive\n"
          ]
        }
      ]
    },
    {
      "cell_type": "code",
      "source": [
        "import warnings\n",
        "warnings.filterwarnings(\"ignore\")"
      ],
      "metadata": {
        "id": "nFv44vhZzntZ"
      },
      "execution_count": 5,
      "outputs": []
    },
    {
      "cell_type": "code",
      "source": [
        "path = \"/content/drive/MyDrive/Dataset_BUSI_with_GT (2)\"\n",
        "dir_list = [os.path.join(path,i) for i in os.listdir(path)]\n",
        "size_dict = {}\n",
        "for i,value in enumerate(dir_list):\n",
        "    size_dict[os.listdir(path)[i]] = len(os.listdir(value))\n",
        "size_dict "
      ],
      "metadata": {
        "colab": {
          "base_uri": "https://localhost:8080/"
        },
        "id": "j5Gf1QsLANRA",
        "outputId": "8dae548f-08ff-4659-f3b3-6ae2de607ad5"
      },
      "execution_count": 6,
      "outputs": [
        {
          "output_type": "execute_result",
          "data": {
            "text/plain": [
              "{'benign': 891, 'malignant': 421, 'normal': 266}"
            ]
          },
          "metadata": {},
          "execution_count": 6
        }
      ]
    },
    {
      "cell_type": "code",
      "source": [
        "import re\n",
        "def clean(name):\n",
        "    name = re.sub('[benign ().p]','',str(name))\n",
        "    return name"
      ],
      "metadata": {
        "id": "tyAGab8NAP9k"
      },
      "execution_count": 7,
      "outputs": []
    },
    {
      "cell_type": "code",
      "source": [
        "df = pd.DataFrame(os.listdir(dir_list[0]))\n",
        "# df = df.apply(str,axis=1)\n",
        "df = df[0].apply(clean)\n",
        "# print(df.info())\n",
        "df = df[~df.str.contains('mask',regex =False)]\n",
        "df = df.apply(str)\n",
        "df_list = list(df)\n",
        "type(df_list)\n",
        "df_list.sort()\n",
        "print(len(df_list))"
      ],
      "metadata": {
        "colab": {
          "base_uri": "https://localhost:8080/"
        },
        "id": "3lHXR6GOBNKP",
        "outputId": "f3c2bb54-ef1c-49c6-8e71-aa2ff74752da"
      },
      "execution_count": 8,
      "outputs": [
        {
          "output_type": "stream",
          "name": "stdout",
          "text": [
            "210\n"
          ]
        }
      ]
    },
    {
      "cell_type": "code",
      "source": [
        "img_size = 128\n",
        "img_channel = 3\n",
        "X_b , Xm_b , y_b = np.zeros((437,img_size,img_size,img_channel)) , np.zeros((437,img_size,img_size,img_channel)) , np.full(437,1) \n",
        "X_n , Xm_n , y_n = np.zeros((133,img_size,img_size,img_channel)) , np.zeros((133,img_size,img_size,img_channel)) , np.full(133,0) \n",
        "X_m , Xm_m , y_m = np.zeros((210,img_size,img_size,img_channel)) , np.zeros((210,img_size,img_size,img_channel)) , np.full(210,1)"
      ],
      "metadata": {
        "id": "wI7V8FMn9ytM"
      },
      "execution_count": 9,
      "outputs": []
    },
    {
      "cell_type": "code",
      "source": [
        "img1_path = os.path.join(os.path.join(path,'benign'),os.listdir(os.path.join(path,'benign'))[1])\n",
        "\n",
        "pil_img = load_img(img1_path,color_mode = 'rgb',target_size=(img_size,img_size))\n",
        "img = img_to_array(pil_img)\n",
        "img_shape = img.shape\n",
        "print(img_shape)\n",
        "\n",
        "def img_num(filename):\n",
        "    \n",
        "    val = 0\n",
        "    \n",
        "    for i in range(len(filename)) :\n",
        "        if filename[i] == '(' :\n",
        "            while True :\n",
        "                i += 1\n",
        "                if filename[i] == ')' :\n",
        "                    break\n",
        "                val = (val*10) + int(filename[i])\n",
        "            break\n",
        "    \n",
        "    return val\n",
        "\n",
        "for tumor_path in dir_list :\n",
        "    for image in os.listdir(tumor_path) :\n",
        "        p = os.path.join(tumor_path, image)\n",
        "        pil_img = load_img(p,color_mode = 'rgb',target_size=(img_size,img_size))         # read image as  grayscale ans resize it\n",
        "        \n",
        "        if image[-5] == ')' :                                   #if real image \n",
        "            \n",
        "            if image[0] == 'b' :\n",
        "                X_b[img_num(image)-1]+= img_to_array(pil_img)  # If image is real add it\n",
        "            if image[0] == 'n' :                               # to X as benign , normal\n",
        "                X_n[img_num(image)-1]+= img_to_array(pil_img)  # or malignant.\n",
        "            if image[0] == 'm' :\n",
        "                X_m[img_num(image)-1]+= img_to_array(pil_img)\n",
        "        else :                                                 #else masked image\n",
        "            \n",
        "            if image[0] == 'b' :\n",
        "                Xm_b[img_num(image)-1]+= img_to_array(pil_img)  # Similarly add the target\n",
        "            if image[0] == 'n' :                               # mask to y.\n",
        "                Xm_n[img_num(image)-1]+= img_to_array(pil_img)\n",
        "            if image[0] == 'm' :\n",
        "                Xm_m[img_num(image)-1]+= img_to_array(pil_img)"
      ],
      "metadata": {
        "colab": {
          "base_uri": "https://localhost:8080/"
        },
        "id": "xSN_RwzR91ZN",
        "outputId": "2e94beb8-acc9-4e7c-e129-70b282648f8e"
      },
      "execution_count": 10,
      "outputs": [
        {
          "output_type": "stream",
          "name": "stdout",
          "text": [
            "(128, 128, 3)\n"
          ]
        }
      ]
    },
    {
      "cell_type": "code",
      "source": [
        "X = np.concatenate((X_b, X_n, X_m), axis = 0)\n",
        "Xm = np.concatenate((Xm_b, Xm_n, Xm_m), axis = 0)\n",
        "y = np.concatenate((y_b, y_n, y_m), axis = 0)\n",
        "X /= 255.0\n",
        "Xm /= 255.0\n",
        "\n",
        "print(X.shape)\n",
        "print(Xm.shape)\n",
        "print(y.shape)\n"
      ],
      "metadata": {
        "colab": {
          "base_uri": "https://localhost:8080/"
        },
        "id": "ctO2RGJy93eE",
        "outputId": "695be693-7a75-4a3b-92f1-d4838b8b0eef"
      },
      "execution_count": 11,
      "outputs": [
        {
          "output_type": "stream",
          "name": "stdout",
          "text": [
            "(780, 128, 128, 3)\n",
            "(780, 128, 128, 3)\n",
            "(780,)\n"
          ]
        }
      ]
    },
    {
      "cell_type": "code",
      "source": [
        "masks=[]\n",
        "for i  in (Xm):\n",
        "   img1 =  np.expand_dims(i, axis=-1)\n",
        "   masks.append(img1)"
      ],
      "metadata": {
        "id": "YoHALZF5c5J4"
      },
      "execution_count": 12,
      "outputs": []
    },
    {
      "cell_type": "code",
      "source": [
        "plt.subplot(121),plt.imshow(X[5],cmap = 'gray')\n",
        "\n",
        "plt.title('Original  of\" benign image\"'), plt.xticks([]), plt.yticks([])\n",
        "plt.subplot(122),plt.imshow(Xm[5],cmap = 'gray')\n",
        "plt.title('benign Masked  Image'), plt.xticks([]), plt.yticks([])\n",
        "\n",
        "plt.show()"
      ],
      "metadata": {
        "colab": {
          "base_uri": "https://localhost:8080/",
          "height": 203
        },
        "id": "t_Ymx26oYFhY",
        "outputId": "b0877196-8ce6-475c-c785-dbd1ade6f73a"
      },
      "execution_count": 13,
      "outputs": [
        {
          "output_type": "display_data",
          "data": {
            "text/plain": [
              "<Figure size 432x288 with 2 Axes>"
            ],
            "image/png": "[encoded data removed]"
          },
          "metadata": {}
        }
      ]
    },
    {
      "cell_type": "code",
      "source": [
        "plt.subplot(121),plt.imshow(X[500],cmap = 'gray')\n",
        "plt.title('Original normal Image'), plt.xticks([]), plt.yticks([])\n",
        "plt.subplot(122),plt.imshow(Xm[500],cmap = 'gray')\n",
        "plt.title('Masked    Image'), plt.xticks([]), plt.yticks([])\n",
        "plt.show()"
      ],
      "metadata": {
        "colab": {
          "base_uri": "https://localhost:8080/",
          "height": 203
        },
        "id": "xmgHb8rKY0RT",
        "outputId": "30041619-e2a7-4124-dbf0-3af41170ab7b"
      },
      "execution_count": 14,
      "outputs": [
        {
          "output_type": "display_data",
          "data": {
            "text/plain": [
              "<Figure size 432x288 with 2 Axes>"
            ],
            "image/png": "[encoded data removed]"
          },
          "metadata": {}
        }
      ]
    },
    {
      "cell_type": "code",
      "source": [
        "from sklearn.model_selection import train_test_split\n",
        "\n",
        "X_train, X_test, y_train, y_test= train_test_split(Xm,y, test_size=.2, stratify=y, random_state=42)"
      ],
      "metadata": {
        "id": "VH16L-m_Od8I"
      },
      "execution_count": 15,
      "outputs": []
    },
    {
      "cell_type": "markdown",
      "source": [
        "initializing CNN & add a convolutional layer "
      ],
      "metadata": {
        "id": "_tW3ekY8NAD4"
      }
    },
    {
      "cell_type": "markdown",
      "source": [
        ""
      ],
      "metadata": {
        "id": "Qn9-_lAgNlZO"
      }
    },
    {
      "cell_type": "code",
      "source": [
        "start = timeit.default_timer()"
      ],
      "metadata": {
        "id": "rjpqR1pGx5VO"
      },
      "execution_count": 16,
      "outputs": []
    },
    {
      "cell_type": "code",
      "source": [
        "base_model = tf.keras.applications.VGG19(\n",
        "    include_top=False,\n",
        "    weights=\"imagenet\",\n",
        "    input_tensor=None,\n",
        "    input_shape=img_shape,\n",
        "    pooling=None\n",
        ")\n",
        "\n",
        "for l in base_model.layers:\n",
        "    l.trainable = False"
      ],
      "metadata": {
        "id": "xCCOUh7XNnQP",
        "colab": {
          "base_uri": "https://localhost:8080/"
        },
        "outputId": "bcf68f51-d0d4-4797-c6b3-f9a0f1ac5f9e"
      },
      "execution_count": 17,
      "outputs": [
        {
          "output_type": "stream",
          "name": "stdout",
          "text": [
            "Downloading data from https://storage.googleapis.com/tensorflow/keras-applications/vgg19/vgg19_weights_tf_dim_ordering_tf_kernels_notop.h5\n",
            "80142336/80134624 [==============================] - 0s 0us/step\n",
            "80150528/80134624 [==============================] - 0s 0us/step\n"
          ]
        }
      ]
    },
    {
      "cell_type": "code",
      "source": [
        "def VGG19():\n",
        "\n",
        "    model = Sequential()\n",
        "    model.add(base_model)\n",
        "    \n",
        "    model.add(Flatten())\n",
        "    model.add(BatchNormalization())\n",
        "    model.add(Dense(128,activation='relu'))\n",
        "    model.add(Dropout(0.5))\n",
        "    model.add(Dense(32,activation='relu'))\n",
        "    model.add(Dropout(0.5))\n",
        "    model.add(Dense(2,activation='softmax'))\n",
        "    \n",
        "    model.compile(optimizer='adam',loss= tf.keras.losses.SparseCategoricalCrossentropy(from_logits=True),metrics=['acc'])\n",
        "    \n",
        "    return model"
      ],
      "metadata": {
        "id": "qr6F4dekOALt"
      },
      "execution_count": 18,
      "outputs": []
    },
    {
      "cell_type": "code",
      "source": [
        "import tensorflow as tf\n",
        "from tensorflow.keras.callbacks import EarlyStopping, ModelCheckpoint\n",
        "model = VGG19()\n",
        "model.summary()\n",
        "es = EarlyStopping(monitor='val_loss', mode='min', patience=10,restore_best_weights=True, verbose=1)\n",
        "history = model.fit(X_train,y_train,batch_size = 32,epochs=100,validation_data=(X_test, y_test),callbacks=[es])"
      ],
      "metadata": {
        "colab": {
          "base_uri": "https://localhost:8080/"
        },
        "id": "ST0s5B4IOD1P",
        "outputId": "73761130-2f6d-4d98-85d0-1c84f305c411"
      },
      "execution_count": 19,
      "outputs": [
        {
          "output_type": "stream",
          "name": "stdout",
          "text": [
            "Model: \"sequential\"\n",
            "_________________________________________________________________\n",
            " Layer (type)                Output Shape              Param #   \n",
            "=================================================================\n",
            " vgg19 (Functional)          (None, 4, 4, 512)         20024384  \n",
            "                                                                 \n",
            " flatten (Flatten)           (None, 8192)              0         \n",
            "                                                                 \n",
            " batch_normalization (BatchN  (None, 8192)             32768     \n",
            " ormalization)                                                   \n",
            "                                                                 \n",
            " dense (Dense)               (None, 128)               1048704   \n",
            "                                                                 \n",
            " dropout (Dropout)           (None, 128)               0         \n",
            "                                                                 \n",
            " dense_1 (Dense)             (None, 32)                4128      \n",
            "                                                                 \n",
            " dropout_1 (Dropout)         (None, 32)                0         \n",
            "                                                                 \n",
            " dense_2 (Dense)             (None, 2)                 66        \n",
            "                                                                 \n",
            "=================================================================\n",
            "Total params: 21,110,050\n",
            "Trainable params: 1,069,282\n",
            "Non-trainable params: 20,040,768\n",
            "_________________________________________________________________\n",
            "Epoch 1/100\n",
            "20/20 [==============================] - 17s 205ms/step - loss: 0.4533 - acc: 0.8333 - val_loss: 0.3783 - val_acc: 0.8269\n",
            "Epoch 2/100\n",
            "20/20 [==============================] - 1s 71ms/step - loss: 0.1588 - acc: 0.9663 - val_loss: 0.4827 - val_acc: 0.8269\n",
            "Epoch 3/100\n",
            "20/20 [==============================] - 1s 71ms/step - loss: 0.0356 - acc: 0.9824 - val_loss: 0.4670 - val_acc: 0.8269\n",
            "Epoch 4/100\n",
            "20/20 [==============================] - 1s 74ms/step - loss: 0.0362 - acc: 0.9872 - val_loss: 0.3439 - val_acc: 0.8269\n",
            "Epoch 5/100\n",
            "20/20 [==============================] - 1s 74ms/step - loss: 0.0206 - acc: 0.9888 - val_loss: 0.3065 - val_acc: 0.8269\n",
            "Epoch 6/100\n",
            "20/20 [==============================] - 1s 72ms/step - loss: 0.0307 - acc: 0.9920 - val_loss: 0.5955 - val_acc: 0.8269\n",
            "Epoch 7/100\n",
            "20/20 [==============================] - 1s 71ms/step - loss: 0.0228 - acc: 0.9952 - val_loss: 0.3531 - val_acc: 0.8269\n",
            "Epoch 8/100\n",
            "20/20 [==============================] - 1s 74ms/step - loss: 0.0154 - acc: 0.9920 - val_loss: 0.0703 - val_acc: 1.0000\n",
            "Epoch 9/100\n",
            "20/20 [==============================] - 1s 75ms/step - loss: 0.0123 - acc: 0.9968 - val_loss: 0.0145 - val_acc: 1.0000\n",
            "Epoch 10/100\n",
            "20/20 [==============================] - 1s 75ms/step - loss: 0.0246 - acc: 0.9968 - val_loss: 0.0042 - val_acc: 1.0000\n",
            "Epoch 11/100\n",
            "20/20 [==============================] - 1s 75ms/step - loss: 0.0124 - acc: 0.9968 - val_loss: 0.0034 - val_acc: 1.0000\n",
            "Epoch 12/100\n",
            "20/20 [==============================] - 1s 75ms/step - loss: 0.0054 - acc: 0.9984 - val_loss: 6.3252e-04 - val_acc: 1.0000\n",
            "Epoch 13/100\n",
            "20/20 [==============================] - 1s 75ms/step - loss: 0.0112 - acc: 0.9968 - val_loss: 5.3944e-05 - val_acc: 1.0000\n",
            "Epoch 14/100\n",
            "20/20 [==============================] - 1s 72ms/step - loss: 0.0134 - acc: 0.9936 - val_loss: 6.7045e-05 - val_acc: 1.0000\n",
            "Epoch 15/100\n",
            "20/20 [==============================] - 1s 72ms/step - loss: 8.2844e-04 - acc: 1.0000 - val_loss: 7.6497e-05 - val_acc: 1.0000\n",
            "Epoch 16/100\n",
            "20/20 [==============================] - 1s 75ms/step - loss: 0.0056 - acc: 0.9952 - val_loss: 4.9372e-06 - val_acc: 1.0000\n",
            "Epoch 17/100\n",
            "20/20 [==============================] - 1s 76ms/step - loss: 0.0060 - acc: 0.9968 - val_loss: 5.5707e-07 - val_acc: 1.0000\n",
            "Epoch 18/100\n",
            "20/20 [==============================] - 1s 76ms/step - loss: 0.0134 - acc: 0.9984 - val_loss: 8.1765e-08 - val_acc: 1.0000\n",
            "Epoch 19/100\n",
            "20/20 [==============================] - 1s 75ms/step - loss: 8.5175e-04 - acc: 1.0000 - val_loss: 4.7378e-08 - val_acc: 1.0000\n",
            "Epoch 20/100\n",
            "20/20 [==============================] - 1s 75ms/step - loss: 0.0010 - acc: 1.0000 - val_loss: 3.5916e-08 - val_acc: 1.0000\n",
            "Epoch 21/100\n",
            "20/20 [==============================] - 1s 73ms/step - loss: 0.0034 - acc: 0.9984 - val_loss: 4.7378e-08 - val_acc: 1.0000\n",
            "Epoch 22/100\n",
            "20/20 [==============================] - 1s 73ms/step - loss: 0.0243 - acc: 0.9936 - val_loss: 1.1616e-05 - val_acc: 1.0000\n",
            "Epoch 23/100\n",
            "20/20 [==============================] - 1s 73ms/step - loss: 0.0019 - acc: 1.0000 - val_loss: 9.2224e-06 - val_acc: 1.0000\n",
            "Epoch 24/100\n",
            "20/20 [==============================] - 1s 73ms/step - loss: 0.0060 - acc: 0.9984 - val_loss: 4.3328e-07 - val_acc: 1.0000\n",
            "Epoch 25/100\n",
            "20/20 [==============================] - 1s 76ms/step - loss: 0.0033 - acc: 0.9984 - val_loss: 2.0632e-08 - val_acc: 1.0000\n",
            "Epoch 26/100\n",
            "20/20 [==============================] - 2s 76ms/step - loss: 1.3536e-04 - acc: 1.0000 - val_loss: 0.0000e+00 - val_acc: 1.0000\n",
            "Epoch 27/100\n",
            "20/20 [==============================] - 1s 73ms/step - loss: 0.0110 - acc: 0.9968 - val_loss: 4.7454e-07 - val_acc: 1.0000\n",
            "Epoch 28/100\n",
            "20/20 [==============================] - 1s 73ms/step - loss: 0.0137 - acc: 0.9984 - val_loss: 0.0102 - val_acc: 0.9872\n",
            "Epoch 29/100\n",
            "20/20 [==============================] - 1s 74ms/step - loss: 5.7859e-04 - acc: 1.0000 - val_loss: 1.8165e-05 - val_acc: 1.0000\n",
            "Epoch 30/100\n",
            "20/20 [==============================] - 1s 73ms/step - loss: 0.0243 - acc: 0.9968 - val_loss: 0.0000e+00 - val_acc: 1.0000\n",
            "Epoch 31/100\n",
            "20/20 [==============================] - 1s 74ms/step - loss: 0.0202 - acc: 0.9952 - val_loss: 2.0632e-08 - val_acc: 1.0000\n",
            "Epoch 32/100\n",
            "20/20 [==============================] - 1s 74ms/step - loss: 0.0032 - acc: 0.9984 - val_loss: 0.0000e+00 - val_acc: 1.0000\n",
            "Epoch 33/100\n",
            "20/20 [==============================] - 1s 74ms/step - loss: 7.4869e-04 - acc: 1.0000 - val_loss: 0.0000e+00 - val_acc: 1.0000\n",
            "Epoch 34/100\n",
            "20/20 [==============================] - 1s 74ms/step - loss: 0.0019 - acc: 0.9984 - val_loss: 0.0000e+00 - val_acc: 1.0000\n",
            "Epoch 35/100\n",
            "20/20 [==============================] - 1s 74ms/step - loss: 4.6012e-04 - acc: 1.0000 - val_loss: 0.0000e+00 - val_acc: 1.0000\n",
            "Epoch 36/100\n",
            "19/20 [===========================>..] - ETA: 0s - loss: 8.0028e-04 - acc: 1.0000Restoring model weights from the end of the best epoch: 26.\n",
            "20/20 [==============================] - 2s 76ms/step - loss: 7.7976e-04 - acc: 1.0000 - val_loss: 0.0000e+00 - val_acc: 1.0000\n",
            "Epoch 36: early stopping\n"
          ]
        }
      ]
    },
    {
      "cell_type": "code",
      "source": [
        "end = timeit.default_timer()"
      ],
      "metadata": {
        "id": "XthfFLu0yBMN"
      },
      "execution_count": 20,
      "outputs": []
    },
    {
      "cell_type": "code",
      "source": [
        ""
      ],
      "metadata": {
        "id": "vF_P5T7_DN1q"
      },
      "execution_count": 20,
      "outputs": []
    },
    {
      "cell_type": "markdown",
      "source": [
        "Plotting loss graph"
      ],
      "metadata": {
        "id": "An3qrZfENuNv"
      }
    },
    {
      "cell_type": "markdown",
      "source": [
        ""
      ],
      "metadata": {
        "id": "u9-abCKCNzP3"
      }
    },
    {
      "cell_type": "code",
      "source": [
        "# dictionary keys seems to have changed in version 2\n",
        "k = ''\n",
        "if 'accuracy' in history.history :\n",
        "    k = 'accuracy'    \n",
        "\n",
        "if 'acc' in history.history :\n",
        "    k = 'acc'\n",
        "    \n",
        "if k != '' :    \n",
        "    plt.plot(history.history[k])\n",
        "    plt.plot(history.history['val_'+k])\n",
        "    plt.title('Model Accuracy')\n",
        "    plt.ylabel('Accuracy')\n",
        "    plt.xlabel('Epoch')\n",
        "    plt.legend(['train', 'test'], loc='upper left')\n",
        "    plt.show()"
      ],
      "metadata": {
        "colab": {
          "base_uri": "https://localhost:8080/",
          "height": 295
        },
        "id": "f8ckk_PaAqOP",
        "outputId": "b17e04e1-bfc3-40e5-f9f7-2bfb0f020b86"
      },
      "execution_count": 21,
      "outputs": [
        {
          "output_type": "display_data",
          "data": {
            "text/plain": [
              "<Figure size 432x288 with 1 Axes>"
            ],
            "image/png": "[encoded data removed]"
          },
          "metadata": {
            "needs_background": "light"
          }
        }
      ]
    },
    {
      "cell_type": "code",
      "source": [
        "plt.plot(history.history['loss'])\n",
        "plt.plot(history.history['val_loss'])\n",
        "plt.title('Model loss')\n",
        "plt.ylabel('Loss')\n",
        "plt.xlabel('Epoch')\n",
        "plt.legend(['train', 'test'], loc='upper left')\n",
        "plt.show()"
      ],
      "metadata": {
        "colab": {
          "base_uri": "https://localhost:8080/",
          "height": 295
        },
        "id": "vZv-h-c5A6g-",
        "outputId": "7f2d702c-e1a5-47cf-fb27-509e1d461389"
      },
      "execution_count": 22,
      "outputs": [
        {
          "output_type": "display_data",
          "data": {
            "text/plain": [
              "<Figure size 432x288 with 1 Axes>"
            ],
            "image/png": "[encoded data removed]"
          },
          "metadata": {
            "needs_background": "light"
          }
        }
      ]
    },
    {
      "cell_type": "code",
      "source": [
        "\n",
        "\n",
        "# Generate generalization metrics\n",
        "\n",
        "from sklearn.metrics import accuracy_score,classification_report\n",
        "y_predictt = model.predict(X_test)\n",
        "y_predictt = y_predictt.argmax(axis=-1)\n",
        "score=accuracy_score(y_test, y_predictt)*100\n",
        "print('Accuracy of testing: \\n{0}'.format(score))\n",
        "pred = model.predict_generator(X_test)\n",
        "y_predict = pred.argmax(axis=-1)\n",
        "from sklearn.metrics import confusion_matrix\n",
        "conf_mx = confusion_matrix(y_test, y_predict)\n",
        "print('Confusion matrix of testing: \\n{0}'.format(conf_mx))\n",
        "print(classification_report(y_test, y_predict))\n",
        "print('time to VGG19 model in seconds is : \\n{0}'.format(end-start))\n",
        "\n"
      ],
      "metadata": {
        "colab": {
          "base_uri": "https://localhost:8080/"
        },
        "id": "t37O_4DSPbbL",
        "outputId": "6fb680f5-aebb-432f-d527-c41dd24bc5c7"
      },
      "execution_count": 23,
      "outputs": [
        {
          "output_type": "stream",
          "name": "stdout",
          "text": [
            "Accuracy of testing: \n",
            "100.0\n",
            "Confusion matrix of testing: \n",
            "[[ 27   0]\n",
            " [  0 129]]\n",
            "              precision    recall  f1-score   support\n",
            "\n",
            "           0       1.00      1.00      1.00        27\n",
            "           1       1.00      1.00      1.00       129\n",
            "\n",
            "    accuracy                           1.00       156\n",
            "   macro avg       1.00      1.00      1.00       156\n",
            "weighted avg       1.00      1.00      1.00       156\n",
            "\n",
            "time to VGG19 model in seconds is : \n",
            "72.85715644099997\n"
          ]
        }
      ]
    },
    {
      "cell_type": "code",
      "source": [
        ""
      ],
      "metadata": {
        "id": "x3gUS9pSRQlQ"
      },
      "execution_count": 23,
      "outputs": []
    },
    {
      "cell_type": "code",
      "source": [
        "model.save(\"MASKED_Model_upnormal.h5\")"
      ],
      "metadata": {
        "id": "UIkGCo65sbau"
      },
      "execution_count": 25,
      "outputs": []
    },
    {
      "cell_type": "code",
      "source": [
        ""
      ],
      "metadata": {
        "id": "SSF9dwaVscQW"
      },
      "execution_count": 24,
      "outputs": []
    }
  ]
}