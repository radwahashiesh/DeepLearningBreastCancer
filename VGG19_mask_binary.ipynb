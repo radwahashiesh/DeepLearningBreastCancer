{
  "nbformat": 4,
  "nbformat_minor": 0,
  "metadata": {
    "colab": {
      "name": "VGG19_mask_binary.ipynb",
      "provenance": [],
      "collapsed_sections": [],
      "include_colab_link": true
    },
    "kernelspec": {
      "name": "python3",
      "display_name": "Python 3"
    },
    "language_info": {
      "name": "python"
    },
    "accelerator": "GPU",
    "gpuClass": "standard"
  },
  "cells": [
    {
      "cell_type": "markdown",
      "metadata": {
        "id": "view-in-github",
        "colab_type": "text"
      },
      "source": [
        "<a href=\"https://colab.research.google.com/github/radwahashiesh/DeepLearningBreastCancer/blob/main/VGG19_mask_binary.ipynb\" target=\"_parent\"><img src=\"https://colab.research.google.com/assets/colab-badge.svg\" alt=\"Open In Colab\"/></a>"
      ]
    },
    {
      "cell_type": "code",
      "execution_count": 5,
      "metadata": {
        "id": "16fDcWvz4tQv"
      },
      "outputs": [],
      "source": [
        "import numpy as np \n",
        "import pandas as pd\n",
        "import os\n",
        "from tensorflow import keras\n",
        "import cv2\n",
        "from sklearn.metrics import accuracy_score, confusion_matrix, roc_curve, roc_auc_score, classification_report\n",
        "from tensorflow.keras.preprocessing.image import load_img ,img_to_array\n",
        "import matplotlib.pyplot as plt\n",
        "from tensorflow.keras.models import Sequential \n",
        "from tensorflow.keras.layers import Conv2D\n",
        "from tensorflow.keras.layers import MaxPooling2D,AveragePooling2D,BatchNormalization\n",
        "from tensorflow.keras.layers import Dense,Activation\n",
        "from tensorflow.keras.layers import Flatten,Dropout,SpatialDropout2D,AveragePooling2D,GlobalAveragePooling2D\n",
        "from tensorflow.keras.optimizers import SGD\n",
        "from tensorflow.keras.optimizers import Adam\n",
        "import tensorflow as tf\n",
        "import tensorflow.keras\n",
        "from tensorflow.keras.models import Sequential\n",
        "from tensorflow.keras.layers import Dense, Flatten, Conv2D, MaxPooling2D\n",
        "# from tensorflow.keras import backend as K\n",
        "# Common imports\n",
        "import numpy as np\n",
        "import os\n",
        "import timeit\n",
        "from sklearn.neural_network import MLPClassifier\n",
        " "
      ]
    },
    {
      "cell_type": "code",
      "source": [
        "import warnings\n",
        "warnings.filterwarnings(\"ignore\")"
      ],
      "metadata": {
        "id": "nFv44vhZzntZ"
      },
      "execution_count": 6,
      "outputs": []
    },
    {
      "cell_type": "code",
      "source": [
        "path = \"/content/drive/MyDrive/Dataset_BUSI_with_GT (2)\"\n",
        "dir_list = [os.path.join(path,i) for i in os.listdir(path)]\n",
        "size_dict = {}\n",
        "for i,value in enumerate(dir_list):\n",
        "    size_dict[os.listdir(path)[i]] = len(os.listdir(value))\n",
        "size_dict "
      ],
      "metadata": {
        "colab": {
          "base_uri": "https://localhost:8080/"
        },
        "id": "j5Gf1QsLANRA",
        "outputId": "02d19d67-d865-4d20-9db6-0bd1e484c67f"
      },
      "execution_count": 7,
      "outputs": [
        {
          "output_type": "execute_result",
          "data": {
            "text/plain": [
              "{'benign': 891, 'malignant': 421, 'normal': 266}"
            ]
          },
          "metadata": {},
          "execution_count": 7
        }
      ]
    },
    {
      "cell_type": "code",
      "source": [
        "from google.colab import drive\n",
        "drive.mount('/content/drive')"
      ],
      "metadata": {
        "colab": {
          "base_uri": "https://localhost:8080/"
        },
        "id": "nVkVt-UujtpQ",
        "outputId": "fb05f4ec-2d49-4459-ba5d-f773de6914b5"
      },
      "execution_count": 8,
      "outputs": [
        {
          "output_type": "stream",
          "name": "stdout",
          "text": [
            "Drive already mounted at /content/drive; to attempt to forcibly remount, call drive.mount(\"/content/drive\", force_remount=True).\n"
          ]
        }
      ]
    },
    {
      "cell_type": "code",
      "source": [
        "import re\n",
        "def clean(name):\n",
        "    name = re.sub('[benign ().p]','',str(name))\n",
        "    return name"
      ],
      "metadata": {
        "id": "tyAGab8NAP9k"
      },
      "execution_count": 9,
      "outputs": []
    },
    {
      "cell_type": "code",
      "source": [
        "df = pd.DataFrame(os.listdir(dir_list[0]))\n",
        "# df = df.apply(str,axis=1)\n",
        "df = df[0].apply(clean)\n",
        "# print(df.info())\n",
        "df = df[~df.str.contains('mask',regex =False)]\n",
        "df = df.apply(str)\n",
        "df_list = list(df)\n",
        "type(df_list)\n",
        "df_list.sort()\n",
        "print(len(df_list))"
      ],
      "metadata": {
        "colab": {
          "base_uri": "https://localhost:8080/"
        },
        "id": "3lHXR6GOBNKP",
        "outputId": "408ae5ad-b170-413d-b58c-e79d1eb13e2c"
      },
      "execution_count": 10,
      "outputs": [
        {
          "output_type": "stream",
          "name": "stdout",
          "text": [
            "210\n"
          ]
        }
      ]
    },
    {
      "cell_type": "code",
      "source": [
        "img_size = 128\n",
        "img_channel = 3\n",
        "X_b , Xm_b , y_b = np.zeros((437,img_size,img_size,img_channel)) , np.zeros((437,img_size,img_size,img_channel)) , np.full(437,1) \n",
        "X_n , Xm_n , y_n = np.zeros((133,img_size,img_size,img_channel)) , np.zeros((133,img_size,img_size,img_channel)) , np.full(133,0) \n",
        "X_m , Xm_m , y_m = np.zeros((210,img_size,img_size,img_channel)) , np.zeros((210,img_size,img_size,img_channel)) , np.full(210,2)"
      ],
      "metadata": {
        "id": "wI7V8FMn9ytM"
      },
      "execution_count": 11,
      "outputs": []
    },
    {
      "cell_type": "code",
      "source": [
        "img1_path = os.path.join(os.path.join(path,'benign'),os.listdir(os.path.join(path,'benign'))[1])\n",
        "\n",
        "pil_img = load_img(img1_path,color_mode = 'rgb',target_size=(img_size,img_size))\n",
        "img = img_to_array(pil_img)\n",
        "img_shape = img.shape\n",
        "print(img_shape)\n",
        "\n",
        "def img_num(filename):\n",
        "    \n",
        "    val = 0\n",
        "    \n",
        "    for i in range(len(filename)) :\n",
        "        if filename[i] == '(' :\n",
        "            while True :\n",
        "                i += 1\n",
        "                if filename[i] == ')' :\n",
        "                    break\n",
        "                val = (val*10) + int(filename[i])\n",
        "            break\n",
        "    \n",
        "    return val\n",
        "\n",
        "for tumor_path in dir_list :\n",
        "    for image in os.listdir(tumor_path) :\n",
        "        p = os.path.join(tumor_path, image)\n",
        "        pil_img = load_img(p,color_mode = 'rgb',target_size=(img_size,img_size))         # read image as  grayscale ans resize it\n",
        "        \n",
        "        if image[-5] == ')' :                                   #if real image \n",
        "            \n",
        "            if image[0] == 'b' :\n",
        "                X_b[img_num(image)-1]+= img_to_array(pil_img)  # If image is real add it\n",
        "            if image[0] == 'n' :                               # to X as benign , normal\n",
        "                X_n[img_num(image)-1]+= img_to_array(pil_img)  # or malignant.\n",
        "            if image[0] == 'm' :\n",
        "                X_m[img_num(image)-1]+= img_to_array(pil_img)\n",
        "        else :                                                 #else masked image\n",
        "            \n",
        "            if image[0] == 'b' :\n",
        "                Xm_b[img_num(image)-1]+= img_to_array(pil_img)  # Similarly add the target\n",
        "            if image[0] == 'n' :                               # mask to y.\n",
        "                Xm_n[img_num(image)-1]+= img_to_array(pil_img)\n",
        "            if image[0] == 'm' :\n",
        "                Xm_m[img_num(image)-1]+= img_to_array(pil_img)"
      ],
      "metadata": {
        "colab": {
          "base_uri": "https://localhost:8080/"
        },
        "id": "xSN_RwzR91ZN",
        "outputId": "a74fe61d-95c4-4e0e-e2bd-d458c3a49c66"
      },
      "execution_count": 12,
      "outputs": [
        {
          "output_type": "stream",
          "name": "stdout",
          "text": [
            "(128, 128, 3)\n"
          ]
        }
      ]
    },
    {
      "cell_type": "code",
      "source": [
        "X = np.concatenate((X_b, X_m), axis = 0)\n",
        "Xm = np.concatenate((Xm_b, Xm_m), axis = 0)\n",
        "y = np.concatenate((y_b,y_m), axis = 0)\n",
        "X /= 255.0\n",
        "Xm /= 255.0\n",
        "\n",
        "print(X.shape)\n",
        "print(Xm.shape)\n",
        "print(y.shape)\n"
      ],
      "metadata": {
        "colab": {
          "base_uri": "https://localhost:8080/"
        },
        "id": "ctO2RGJy93eE",
        "outputId": "86895ac6-77b6-428f-d458-4984601d7669"
      },
      "execution_count": 13,
      "outputs": [
        {
          "output_type": "stream",
          "name": "stdout",
          "text": [
            "(647, 128, 128, 3)\n",
            "(647, 128, 128, 3)\n",
            "(647,)\n"
          ]
        }
      ]
    },
    {
      "cell_type": "code",
      "source": [
        "masks=[]\n",
        "for i  in (Xm):\n",
        "   img1 =  np.expand_dims(i, axis=-1)\n",
        "   masks.append(img1)"
      ],
      "metadata": {
        "id": "YoHALZF5c5J4"
      },
      "execution_count": 14,
      "outputs": []
    },
    {
      "cell_type": "code",
      "source": [
        "plt.subplot(121),plt.imshow(X[5],cmap = 'gray')\n",
        "\n",
        "plt.title('Original  of\" benign image\"'), plt.xticks([]), plt.yticks([])\n",
        "plt.subplot(122),plt.imshow(Xm[5],cmap = 'gray')\n",
        "plt.title('benign Masked  Image'), plt.xticks([]), plt.yticks([])\n",
        "\n",
        "plt.show()"
      ],
      "metadata": {
        "colab": {
          "base_uri": "https://localhost:8080/",
          "height": 203
        },
        "id": "t_Ymx26oYFhY",
        "outputId": "c96775d1-c5b0-4024-bff5-20b33bec0a6c"
      },
      "execution_count": 15,
      "outputs": [
        {
          "output_type": "display_data",
          "data": {
            "text/plain": [
              "<Figure size 432x288 with 2 Axes>"
            ],
            "image/png": "[encoded data removed]"
          },
          "metadata": {}
        }
      ]
    },
    {
      "cell_type": "code",
      "source": [
        "plt.subplot(121),plt.imshow(X[500],cmap = 'gray')\n",
        "plt.title('Original  Image'), plt.xticks([]), plt.yticks([])\n",
        "plt.subplot(122),plt.imshow(Xm[500],cmap = 'gray')\n",
        "plt.title('Masked    Image'), plt.xticks([]), plt.yticks([])\n",
        "plt.show()"
      ],
      "metadata": {
        "colab": {
          "base_uri": "https://localhost:8080/",
          "height": 203
        },
        "id": "xmgHb8rKY0RT",
        "outputId": "cb9c19c4-7ed9-4211-f9f2-8fe580cf3012"
      },
      "execution_count": 16,
      "outputs": [
        {
          "output_type": "display_data",
          "data": {
            "text/plain": [
              "<Figure size 432x288 with 2 Axes>"
            ],
            "image/png": "[encoded data removed]"
          },
          "metadata": {}
        }
      ]
    },
    {
      "cell_type": "code",
      "source": [
        "from sklearn.model_selection import train_test_split\n",
        "\n",
        "X_train, X_test, y_train, y_test= train_test_split(Xm,y, test_size=.2, stratify=y, random_state=42)"
      ],
      "metadata": {
        "id": "VH16L-m_Od8I"
      },
      "execution_count": 17,
      "outputs": []
    },
    {
      "cell_type": "markdown",
      "source": [
        "initializing CNN & add a convolutional layer "
      ],
      "metadata": {
        "id": "_tW3ekY8NAD4"
      }
    },
    {
      "cell_type": "markdown",
      "source": [
        ""
      ],
      "metadata": {
        "id": "Qn9-_lAgNlZO"
      }
    },
    {
      "cell_type": "code",
      "source": [
        "start = timeit.default_timer()"
      ],
      "metadata": {
        "id": "rjpqR1pGx5VO"
      },
      "execution_count": 18,
      "outputs": []
    },
    {
      "cell_type": "code",
      "source": [
        "base_model = tf.keras.applications.VGG19(\n",
        "    include_top=False,\n",
        "    weights=\"imagenet\",\n",
        "    input_tensor=None,\n",
        "    input_shape=img_shape,\n",
        "    pooling=None\n",
        ")\n",
        "\n",
        "for l in base_model.layers:\n",
        "    l.trainable = False"
      ],
      "metadata": {
        "id": "xCCOUh7XNnQP",
        "outputId": "ea25866a-04a3-4668-ea13-59066919249b",
        "colab": {
          "base_uri": "https://localhost:8080/"
        }
      },
      "execution_count": 19,
      "outputs": [
        {
          "output_type": "stream",
          "name": "stdout",
          "text": [
            "Downloading data from https://storage.googleapis.com/tensorflow/keras-applications/vgg19/vgg19_weights_tf_dim_ordering_tf_kernels_notop.h5\n",
            "80142336/80134624 [==============================] - 0s 0us/step\n",
            "80150528/80134624 [==============================] - 0s 0us/step\n"
          ]
        }
      ]
    },
    {
      "cell_type": "code",
      "source": [
        "def VGG19():\n",
        "\n",
        "    model = Sequential()\n",
        "    model.add(base_model)\n",
        "    \n",
        "    model.add(Flatten())\n",
        "    model.add(BatchNormalization())\n",
        "\n",
        "    model.add(Dense(128,activation='relu'))\n",
        "    model.add(Dropout(0.5))\n",
        "\n",
        "    model.add(Dense(3,activation='softmax'))\n",
        "    \n",
        "    model.compile(optimizer= keras.optimizers.Adam(learning_rate = 0.00005),loss= tf.keras.losses.SparseCategoricalCrossentropy(from_logits=True),metrics=['acc'])\n",
        "    \n",
        "    return model"
      ],
      "metadata": {
        "id": "qr6F4dekOALt"
      },
      "execution_count": 20,
      "outputs": []
    },
    {
      "cell_type": "code",
      "source": [
        "import tensorflow as tf\n",
        "from tensorflow.keras.callbacks import EarlyStopping, ModelCheckpoint\n",
        "model = VGG19()\n",
        "model.summary()\n",
        "es = EarlyStopping(monitor='val_loss', mode='min', patience=10,restore_best_weights=True, verbose=1)\n",
        "history = model.fit(X_train,y_train,batch_size = 20,epochs=100,validation_data=(X_test, y_test),callbacks=[es])"
      ],
      "metadata": {
        "colab": {
          "base_uri": "https://localhost:8080/"
        },
        "id": "ST0s5B4IOD1P",
        "outputId": "2098af43-fa65-4fc2-83f7-fa311684e6fb"
      },
      "execution_count": 21,
      "outputs": [
        {
          "output_type": "stream",
          "name": "stdout",
          "text": [
            "Model: \"sequential\"\n",
            "_________________________________________________________________\n",
            " Layer (type)                Output Shape              Param #   \n",
            "=================================================================\n",
            " vgg19 (Functional)          (None, 4, 4, 512)         20024384  \n",
            "                                                                 \n",
            " flatten (Flatten)           (None, 8192)              0         \n",
            "                                                                 \n",
            " batch_normalization (BatchN  (None, 8192)             32768     \n",
            " ormalization)                                                   \n",
            "                                                                 \n",
            " dense (Dense)               (None, 128)               1048704   \n",
            "                                                                 \n",
            " dropout (Dropout)           (None, 128)               0         \n",
            "                                                                 \n",
            " dense_1 (Dense)             (None, 3)                 387       \n",
            "                                                                 \n",
            "=================================================================\n",
            "Total params: 21,106,243\n",
            "Trainable params: 1,065,475\n",
            "Non-trainable params: 20,040,768\n",
            "_________________________________________________________________\n",
            "Epoch 1/100\n",
            "26/26 [==============================] - 16s 148ms/step - loss: 0.8260 - acc: 0.6828 - val_loss: 0.5142 - val_acc: 0.8846\n",
            "Epoch 2/100\n",
            "26/26 [==============================] - 1s 57ms/step - loss: 0.2667 - acc: 0.9091 - val_loss: 0.3675 - val_acc: 0.9692\n",
            "Epoch 3/100\n",
            "26/26 [==============================] - 1s 58ms/step - loss: 0.1738 - acc: 0.9516 - val_loss: 0.3065 - val_acc: 0.9769\n",
            "Epoch 4/100\n",
            "26/26 [==============================] - 1s 58ms/step - loss: 0.1382 - acc: 0.9613 - val_loss: 0.2472 - val_acc: 0.9692\n",
            "Epoch 5/100\n",
            "26/26 [==============================] - 1s 58ms/step - loss: 0.1257 - acc: 0.9671 - val_loss: 0.2084 - val_acc: 0.9692\n",
            "Epoch 6/100\n",
            "26/26 [==============================] - 1s 58ms/step - loss: 0.1119 - acc: 0.9691 - val_loss: 0.1824 - val_acc: 0.9615\n",
            "Epoch 7/100\n",
            "26/26 [==============================] - 1s 58ms/step - loss: 0.1153 - acc: 0.9613 - val_loss: 0.1519 - val_acc: 0.9615\n",
            "Epoch 8/100\n",
            "26/26 [==============================] - 2s 76ms/step - loss: 0.1024 - acc: 0.9671 - val_loss: 0.1233 - val_acc: 0.9692\n",
            "Epoch 9/100\n",
            "26/26 [==============================] - 2s 59ms/step - loss: 0.0857 - acc: 0.9729 - val_loss: 0.1090 - val_acc: 0.9692\n",
            "Epoch 10/100\n",
            "26/26 [==============================] - 1s 58ms/step - loss: 0.0809 - acc: 0.9749 - val_loss: 0.0943 - val_acc: 0.9692\n",
            "Epoch 11/100\n",
            "26/26 [==============================] - 2s 59ms/step - loss: 0.0831 - acc: 0.9787 - val_loss: 0.0814 - val_acc: 0.9769\n",
            "Epoch 12/100\n",
            "26/26 [==============================] - 2s 58ms/step - loss: 0.0593 - acc: 0.9807 - val_loss: 0.0728 - val_acc: 0.9769\n",
            "Epoch 13/100\n",
            "26/26 [==============================] - 2s 58ms/step - loss: 0.0399 - acc: 0.9865 - val_loss: 0.0670 - val_acc: 0.9769\n",
            "Epoch 14/100\n",
            "26/26 [==============================] - 2s 59ms/step - loss: 0.0877 - acc: 0.9768 - val_loss: 0.0634 - val_acc: 0.9692\n",
            "Epoch 15/100\n",
            "26/26 [==============================] - 2s 59ms/step - loss: 0.0664 - acc: 0.9807 - val_loss: 0.0620 - val_acc: 0.9692\n",
            "Epoch 16/100\n",
            "26/26 [==============================] - 2s 59ms/step - loss: 0.0541 - acc: 0.9884 - val_loss: 0.0581 - val_acc: 0.9692\n",
            "Epoch 17/100\n",
            "26/26 [==============================] - 2s 60ms/step - loss: 0.0410 - acc: 0.9903 - val_loss: 0.0545 - val_acc: 0.9769\n",
            "Epoch 18/100\n",
            "26/26 [==============================] - 2s 59ms/step - loss: 0.0450 - acc: 0.9903 - val_loss: 0.0492 - val_acc: 0.9769\n",
            "Epoch 19/100\n",
            "26/26 [==============================] - 2s 59ms/step - loss: 0.0382 - acc: 0.9884 - val_loss: 0.0425 - val_acc: 0.9846\n",
            "Epoch 20/100\n",
            "26/26 [==============================] - 1s 57ms/step - loss: 0.0428 - acc: 0.9865 - val_loss: 0.0460 - val_acc: 0.9769\n",
            "Epoch 21/100\n",
            "26/26 [==============================] - 2s 59ms/step - loss: 0.0419 - acc: 0.9903 - val_loss: 0.0423 - val_acc: 0.9769\n",
            "Epoch 22/100\n",
            "26/26 [==============================] - 2s 59ms/step - loss: 0.0334 - acc: 0.9884 - val_loss: 0.0422 - val_acc: 0.9769\n",
            "Epoch 23/100\n",
            "26/26 [==============================] - 2s 59ms/step - loss: 0.0320 - acc: 0.9865 - val_loss: 0.0387 - val_acc: 0.9846\n",
            "Epoch 24/100\n",
            "26/26 [==============================] - 2s 59ms/step - loss: 0.0304 - acc: 0.9961 - val_loss: 0.0376 - val_acc: 0.9846\n",
            "Epoch 25/100\n",
            "26/26 [==============================] - 2s 59ms/step - loss: 0.0377 - acc: 0.9903 - val_loss: 0.0375 - val_acc: 0.9846\n",
            "Epoch 26/100\n",
            "26/26 [==============================] - 1s 57ms/step - loss: 0.0216 - acc: 0.9961 - val_loss: 0.0375 - val_acc: 0.9846\n",
            "Epoch 27/100\n",
            "26/26 [==============================] - 1s 57ms/step - loss: 0.0268 - acc: 0.9942 - val_loss: 0.0386 - val_acc: 0.9846\n",
            "Epoch 28/100\n",
            "26/26 [==============================] - 2s 58ms/step - loss: 0.0370 - acc: 0.9884 - val_loss: 0.0393 - val_acc: 0.9846\n",
            "Epoch 29/100\n",
            "26/26 [==============================] - 2s 62ms/step - loss: 0.0388 - acc: 0.9903 - val_loss: 0.0358 - val_acc: 0.9846\n",
            "Epoch 30/100\n",
            "26/26 [==============================] - 2s 59ms/step - loss: 0.0282 - acc: 0.9942 - val_loss: 0.0362 - val_acc: 0.9846\n",
            "Epoch 31/100\n",
            "26/26 [==============================] - 2s 60ms/step - loss: 0.0437 - acc: 0.9826 - val_loss: 0.0340 - val_acc: 0.9846\n",
            "Epoch 32/100\n",
            "26/26 [==============================] - 2s 60ms/step - loss: 0.0206 - acc: 0.9961 - val_loss: 0.0307 - val_acc: 0.9846\n",
            "Epoch 33/100\n",
            "26/26 [==============================] - 2s 60ms/step - loss: 0.0325 - acc: 0.9903 - val_loss: 0.0281 - val_acc: 0.9846\n",
            "Epoch 34/100\n",
            "26/26 [==============================] - 1s 57ms/step - loss: 0.0242 - acc: 0.9923 - val_loss: 0.0343 - val_acc: 0.9846\n",
            "Epoch 35/100\n",
            "26/26 [==============================] - 1s 57ms/step - loss: 0.0300 - acc: 0.9903 - val_loss: 0.0391 - val_acc: 0.9846\n",
            "Epoch 36/100\n",
            "26/26 [==============================] - 1s 58ms/step - loss: 0.0139 - acc: 1.0000 - val_loss: 0.0289 - val_acc: 0.9846\n",
            "Epoch 37/100\n",
            "26/26 [==============================] - 1s 58ms/step - loss: 0.0180 - acc: 0.9961 - val_loss: 0.0309 - val_acc: 0.9846\n",
            "Epoch 38/100\n",
            "26/26 [==============================] - 1s 57ms/step - loss: 0.0203 - acc: 0.9961 - val_loss: 0.0294 - val_acc: 0.9846\n",
            "Epoch 39/100\n",
            "26/26 [==============================] - 1s 58ms/step - loss: 0.0179 - acc: 1.0000 - val_loss: 0.0289 - val_acc: 0.9846\n",
            "Epoch 40/100\n",
            "26/26 [==============================] - 1s 58ms/step - loss: 0.0149 - acc: 0.9961 - val_loss: 0.0411 - val_acc: 0.9846\n",
            "Epoch 41/100\n",
            "26/26 [==============================] - 1s 58ms/step - loss: 0.0163 - acc: 0.9961 - val_loss: 0.0320 - val_acc: 0.9846\n",
            "Epoch 42/100\n",
            "26/26 [==============================] - 2s 61ms/step - loss: 0.0260 - acc: 0.9923 - val_loss: 0.0278 - val_acc: 0.9846\n",
            "Epoch 43/100\n",
            "26/26 [==============================] - 2s 60ms/step - loss: 0.0088 - acc: 1.0000 - val_loss: 0.0253 - val_acc: 0.9846\n",
            "Epoch 44/100\n",
            "26/26 [==============================] - 1s 58ms/step - loss: 0.0190 - acc: 0.9923 - val_loss: 0.0255 - val_acc: 0.9846\n",
            "Epoch 45/100\n",
            "26/26 [==============================] - 1s 58ms/step - loss: 0.0092 - acc: 0.9981 - val_loss: 0.0264 - val_acc: 0.9846\n",
            "Epoch 46/100\n",
            "26/26 [==============================] - 2s 58ms/step - loss: 0.0171 - acc: 0.9942 - val_loss: 0.0264 - val_acc: 0.9846\n",
            "Epoch 47/100\n",
            "26/26 [==============================] - 1s 58ms/step - loss: 0.0114 - acc: 0.9981 - val_loss: 0.0324 - val_acc: 0.9846\n",
            "Epoch 48/100\n",
            "26/26 [==============================] - 2s 58ms/step - loss: 0.0247 - acc: 0.9961 - val_loss: 0.0312 - val_acc: 0.9846\n",
            "Epoch 49/100\n",
            "26/26 [==============================] - 2s 61ms/step - loss: 0.0115 - acc: 0.9981 - val_loss: 0.0232 - val_acc: 0.9923\n",
            "Epoch 50/100\n",
            "26/26 [==============================] - 2s 59ms/step - loss: 0.0232 - acc: 0.9942 - val_loss: 0.0290 - val_acc: 0.9846\n",
            "Epoch 51/100\n",
            "26/26 [==============================] - 2s 59ms/step - loss: 0.0200 - acc: 0.9961 - val_loss: 0.0285 - val_acc: 0.9846\n",
            "Epoch 52/100\n",
            "26/26 [==============================] - 2s 59ms/step - loss: 0.0103 - acc: 0.9981 - val_loss: 0.0296 - val_acc: 0.9846\n",
            "Epoch 53/100\n",
            "26/26 [==============================] - 2s 58ms/step - loss: 0.0106 - acc: 0.9981 - val_loss: 0.0264 - val_acc: 0.9846\n",
            "Epoch 54/100\n",
            "26/26 [==============================] - 2s 59ms/step - loss: 0.0091 - acc: 1.0000 - val_loss: 0.0289 - val_acc: 0.9846\n",
            "Epoch 55/100\n",
            "26/26 [==============================] - 2s 59ms/step - loss: 0.0214 - acc: 0.9903 - val_loss: 0.0257 - val_acc: 0.9846\n",
            "Epoch 56/100\n",
            "26/26 [==============================] - 2s 59ms/step - loss: 0.0487 - acc: 0.9826 - val_loss: 0.0276 - val_acc: 0.9923\n",
            "Epoch 57/100\n",
            "26/26 [==============================] - 2s 59ms/step - loss: 0.0110 - acc: 1.0000 - val_loss: 0.0376 - val_acc: 0.9846\n",
            "Epoch 58/100\n",
            "26/26 [==============================] - 2s 59ms/step - loss: 0.0220 - acc: 0.9961 - val_loss: 0.0365 - val_acc: 0.9846\n",
            "Epoch 59/100\n",
            "25/26 [===========================>..] - ETA: 0s - loss: 0.0105 - acc: 1.0000Restoring model weights from the end of the best epoch: 49.\n",
            "26/26 [==============================] - 2s 60ms/step - loss: 0.0114 - acc: 1.0000 - val_loss: 0.0344 - val_acc: 0.9846\n",
            "Epoch 59: early stopping\n"
          ]
        }
      ]
    },
    {
      "cell_type": "code",
      "source": [
        "end = timeit.default_timer()"
      ],
      "metadata": {
        "id": "XthfFLu0yBMN"
      },
      "execution_count": 22,
      "outputs": []
    },
    {
      "cell_type": "code",
      "source": [
        ""
      ],
      "metadata": {
        "id": "vF_P5T7_DN1q"
      },
      "execution_count": 22,
      "outputs": []
    },
    {
      "cell_type": "markdown",
      "source": [
        "Plotting loss graph"
      ],
      "metadata": {
        "id": "An3qrZfENuNv"
      }
    },
    {
      "cell_type": "markdown",
      "source": [
        ""
      ],
      "metadata": {
        "id": "u9-abCKCNzP3"
      }
    },
    {
      "cell_type": "code",
      "source": [
        "# dictionary keys seems to have changed in version 2\n",
        "k = ''\n",
        "if 'accuracy' in history.history :\n",
        "    k = 'accuracy'    \n",
        "\n",
        "if 'acc' in history.history :\n",
        "    k = 'acc'\n",
        "    \n",
        "if k != '' :    \n",
        "    plt.plot(history.history[k])\n",
        "    plt.plot(history.history['val_'+k])\n",
        "    plt.title('Model Accuracy')\n",
        "    plt.ylabel('Accuracy')\n",
        "    plt.xlabel('Epoch')\n",
        "    plt.legend(['train', 'test'], loc='upper left')\n",
        "    plt.show()"
      ],
      "metadata": {
        "colab": {
          "base_uri": "https://localhost:8080/",
          "height": 295
        },
        "id": "f8ckk_PaAqOP",
        "outputId": "337739aa-2ef3-447e-f19b-1cb7490e7238"
      },
      "execution_count": 23,
      "outputs": [
        {
          "output_type": "display_data",
          "data": {
            "text/plain": [
              "<Figure size 432x288 with 1 Axes>"
            ],
            "image/png": "[encoded data removed]"
          },
          "metadata": {
            "needs_background": "light"
          }
        }
      ]
    },
    {
      "cell_type": "code",
      "source": [
        "plt.plot(history.history['loss'])\n",
        "plt.plot(history.history['val_loss'])\n",
        "plt.title('Model loss')\n",
        "plt.ylabel('Loss')\n",
        "plt.xlabel('Epoch')\n",
        "plt.legend(['train', 'test'], loc='upper left')\n",
        "plt.show()"
      ],
      "metadata": {
        "colab": {
          "base_uri": "https://localhost:8080/",
          "height": 295
        },
        "id": "vZv-h-c5A6g-",
        "outputId": "c059d60b-a337-42d7-882a-a2960371ed71"
      },
      "execution_count": 24,
      "outputs": [
        {
          "output_type": "display_data",
          "data": {
            "text/plain": [
              "<Figure size 432x288 with 1 Axes>"
            ],
            "image/png": "[encoded data removed]"
          },
          "metadata": {
            "needs_background": "light"
          }
        }
      ]
    },
    {
      "cell_type": "code",
      "source": [
        "\n",
        "\n",
        "# Generate generalization metrics\n",
        "\n",
        "from sklearn.metrics import accuracy_score,classification_report\n",
        "y_predictt = model.predict(X_test)\n",
        "y_predictt = y_predictt.argmax(axis=-1)\n",
        "score=accuracy_score(y_test, y_predictt)*100\n",
        "print('Accuracy of testing: \\n{0}'.format(score))\n",
        "pred = model.predict_generator(X_test)\n",
        "y_predict = pred.argmax(axis=-1)\n",
        "from sklearn.metrics import confusion_matrix\n",
        "conf_mx = confusion_matrix(y_test, y_predict)\n",
        "print('Confusion matrix of testing: \\n{0}'.format(conf_mx))\n",
        "print(classification_report(y_test, y_predict))\n",
        "print('time to VGG19 model in seconds is : \\n{0}'.format(end-start))\n",
        "\n"
      ],
      "metadata": {
        "colab": {
          "base_uri": "https://localhost:8080/"
        },
        "id": "t37O_4DSPbbL",
        "outputId": "fe4875c4-34c2-4fcd-86fd-724921f376e6"
      },
      "execution_count": 25,
      "outputs": [
        {
          "output_type": "stream",
          "name": "stdout",
          "text": [
            "Accuracy of testing: \n",
            "99.23076923076923\n",
            "Confusion matrix of testing: \n",
            "[[88  0]\n",
            " [ 1 41]]\n",
            "              precision    recall  f1-score   support\n",
            "\n",
            "           1       0.99      1.00      0.99        88\n",
            "           2       1.00      0.98      0.99        42\n",
            "\n",
            "    accuracy                           0.99       130\n",
            "   macro avg       0.99      0.99      0.99       130\n",
            "weighted avg       0.99      0.99      0.99       130\n",
            "\n",
            "time to VGG19 model in seconds is : \n",
            "108.92692599600002\n"
          ]
        }
      ]
    },
    {
      "cell_type": "code",
      "source": [
        "import pickle\n",
        "pickle.dump(model, open(\"model.pkl\", \"wb\"))"
      ],
      "metadata": {
        "id": "x3gUS9pSRQlQ"
      },
      "execution_count": 26,
      "outputs": []
    },
    {
      "cell_type": "code",
      "source": [
        ""
      ],
      "metadata": {
        "id": "tcbtjgGxk289"
      },
      "execution_count": 26,
      "outputs": []
    }
  ]
}