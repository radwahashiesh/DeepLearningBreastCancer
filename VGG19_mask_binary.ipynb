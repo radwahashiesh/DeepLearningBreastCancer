{
  "nbformat": 4,
  "nbformat_minor": 0,
  "metadata": {
    "colab": {
      "name": "VGG19_mask_binary.ipynb",
      "provenance": [],
      "collapsed_sections": [],
      "include_colab_link": true
    },
    "kernelspec": {
      "name": "python3",
      "display_name": "Python 3"
    },
    "language_info": {
      "name": "python"
    },
    "accelerator": "GPU",
    "gpuClass": "standard"
  },
  "cells": [
    {
      "cell_type": "markdown",
      "metadata": {
        "id": "view-in-github",
        "colab_type": "text"
      },
      "source": [
        "<a href=\"https://colab.research.google.com/github/radwahashiesh/DeepLearningBreastCancer/blob/main/VGG19_mask_binary.ipynb\" target=\"_parent\"><img src=\"https://colab.research.google.com/assets/colab-badge.svg\" alt=\"Open In Colab\"/></a>"
      ]
    },
    {
      "cell_type": "code",
      "execution_count": null,
      "metadata": {
        "id": "16fDcWvz4tQv"
      },
      "outputs": [],
      "source": [
        "import numpy as np \n",
        "import pandas as pd\n",
        "import os\n",
        "from tensorflow import keras\n",
        "import cv2\n",
        "from sklearn.metrics import accuracy_score, confusion_matrix, roc_curve, roc_auc_score, classification_report\n",
        "from tensorflow.keras.preprocessing.image import load_img ,img_to_array\n",
        "import matplotlib.pyplot as plt\n",
        "from tensorflow.keras.models import Sequential \n",
        "from tensorflow.keras.layers import Conv2D\n",
        "from tensorflow.keras.layers import MaxPooling2D,AveragePooling2D,BatchNormalization\n",
        "from tensorflow.keras.layers import Dense,Activation\n",
        "from tensorflow.keras.layers import Flatten,Dropout,SpatialDropout2D,AveragePooling2D,GlobalAveragePooling2D\n",
        "from tensorflow.keras.optimizers import SGD\n",
        "from tensorflow.keras.optimizers import Adam\n",
        "import tensorflow as tf\n",
        "import tensorflow.keras\n",
        "from tensorflow.keras.models import Sequential\n",
        "from tensorflow.keras.layers import Dense, Flatten, Conv2D, MaxPooling2D\n",
        "# from tensorflow.keras import backend as K\n",
        "# Common imports\n",
        "import numpy as np\n",
        "import os\n",
        "import timeit\n",
        "from sklearn.neural_network import MLPClassifier\n",
        " "
      ]
    },
    {
      "cell_type": "code",
      "source": [
        "import warnings\n",
        "warnings.filterwarnings(\"ignore\")"
      ],
      "metadata": {
        "id": "nFv44vhZzntZ"
      },
      "execution_count": null,
      "outputs": []
    },
    {
      "cell_type": "code",
      "source": [
        "path = \"/content/drive/MyDrive/Dataset_BUSI_with_GT (2)\"\n",
        "dir_list = [os.path.join(path,i) for i in os.listdir(path)]\n",
        "size_dict = {}\n",
        "for i,value in enumerate(dir_list):\n",
        "    size_dict[os.listdir(path)[i]] = len(os.listdir(value))\n",
        "size_dict "
      ],
      "metadata": {
        "colab": {
          "base_uri": "https://localhost:8080/"
        },
        "id": "j5Gf1QsLANRA",
        "outputId": "f5000267-4c5f-42dc-f1e4-68baaab9f65f"
      },
      "execution_count": null,
      "outputs": [
        {
          "output_type": "execute_result",
          "data": {
            "text/plain": [
              "{'benign': 891, 'malignant': 421, 'normal': 266}"
            ]
          },
          "metadata": {},
          "execution_count": 53
        }
      ]
    },
    {
      "cell_type": "code",
      "source": [
        "from google.colab import drive\n",
        "drive.mount('/content/drive')"
      ],
      "metadata": {
        "colab": {
          "base_uri": "https://localhost:8080/"
        },
        "id": "nVkVt-UujtpQ",
        "outputId": "a54aa43c-b79c-4027-b205-9580b7d53b0a"
      },
      "execution_count": null,
      "outputs": [
        {
          "output_type": "stream",
          "name": "stdout",
          "text": [
            "Drive already mounted at /content/drive; to attempt to forcibly remount, call drive.mount(\"/content/drive\", force_remount=True).\n"
          ]
        }
      ]
    },
    {
      "cell_type": "code",
      "source": [
        "import re\n",
        "def clean(name):\n",
        "    name = re.sub('[benign ().p]','',str(name))\n",
        "    return name"
      ],
      "metadata": {
        "id": "tyAGab8NAP9k"
      },
      "execution_count": null,
      "outputs": []
    },
    {
      "cell_type": "code",
      "source": [
        "df = pd.DataFrame(os.listdir(dir_list[0]))\n",
        "# df = df.apply(str,axis=1)\n",
        "df = df[0].apply(clean)\n",
        "# print(df.info())\n",
        "df = df[~df.str.contains('mask',regex =False)]\n",
        "df = df.apply(str)\n",
        "df_list = list(df)\n",
        "type(df_list)\n",
        "df_list.sort()\n",
        "print(len(df_list))"
      ],
      "metadata": {
        "colab": {
          "base_uri": "https://localhost:8080/"
        },
        "id": "3lHXR6GOBNKP",
        "outputId": "cce30903-e1a0-4ae9-9f35-7d2f7657cd65"
      },
      "execution_count": null,
      "outputs": [
        {
          "output_type": "stream",
          "name": "stdout",
          "text": [
            "210\n"
          ]
        }
      ]
    },
    {
      "cell_type": "code",
      "source": [
        "img_size = 128\n",
        "img_channel = 3\n",
        "X_b , Xm_b , y_b = np.zeros((437,img_size,img_size,img_channel)) , np.zeros((437,img_size,img_size,img_channel)) , np.full(437,1) \n",
        "X_n , Xm_n , y_n = np.zeros((133,img_size,img_size,img_channel)) , np.zeros((133,img_size,img_size,img_channel)) , np.full(133,0) \n",
        "X_m , Xm_m , y_m = np.zeros((210,img_size,img_size,img_channel)) , np.zeros((210,img_size,img_size,img_channel)) , np.full(210,2)"
      ],
      "metadata": {
        "id": "wI7V8FMn9ytM"
      },
      "execution_count": null,
      "outputs": []
    },
    {
      "cell_type": "code",
      "source": [
        "img1_path = os.path.join(os.path.join(path,'benign'),os.listdir(os.path.join(path,'benign'))[1])\n",
        "\n",
        "pil_img = load_img(img1_path,color_mode = 'rgb',target_size=(img_size,img_size))\n",
        "img = img_to_array(pil_img)\n",
        "img_shape = img.shape\n",
        "print(img_shape)\n",
        "\n",
        "def img_num(filename):\n",
        "    \n",
        "    val = 0\n",
        "    \n",
        "    for i in range(len(filename)) :\n",
        "        if filename[i] == '(' :\n",
        "            while True :\n",
        "                i += 1\n",
        "                if filename[i] == ')' :\n",
        "                    break\n",
        "                val = (val*10) + int(filename[i])\n",
        "            break\n",
        "    \n",
        "    return val\n",
        "\n",
        "for tumor_path in dir_list :\n",
        "    for image in os.listdir(tumor_path) :\n",
        "        p = os.path.join(tumor_path, image)\n",
        "        pil_img = load_img(p,color_mode = 'rgb',target_size=(img_size,img_size))         # read image as  grayscale ans resize it\n",
        "        \n",
        "        if image[-5] == ')' :                                   #if real image \n",
        "            \n",
        "            if image[0] == 'b' :\n",
        "                X_b[img_num(image)-1]+= img_to_array(pil_img)  # If image is real add it\n",
        "            if image[0] == 'n' :                               # to X as benign , normal\n",
        "                X_n[img_num(image)-1]+= img_to_array(pil_img)  # or malignant.\n",
        "            if image[0] == 'm' :\n",
        "                X_m[img_num(image)-1]+= img_to_array(pil_img)\n",
        "        else :                                                 #else masked image\n",
        "            \n",
        "            if image[0] == 'b' :\n",
        "                Xm_b[img_num(image)-1]+= img_to_array(pil_img)  # Similarly add the target\n",
        "            if image[0] == 'n' :                               # mask to y.\n",
        "                Xm_n[img_num(image)-1]+= img_to_array(pil_img)\n",
        "            if image[0] == 'm' :\n",
        "                Xm_m[img_num(image)-1]+= img_to_array(pil_img)"
      ],
      "metadata": {
        "colab": {
          "base_uri": "https://localhost:8080/"
        },
        "id": "xSN_RwzR91ZN",
        "outputId": "1c89c597-a9f7-4b4f-efc1-a26f71254364"
      },
      "execution_count": null,
      "outputs": [
        {
          "output_type": "stream",
          "name": "stdout",
          "text": [
            "(128, 128, 3)\n"
          ]
        }
      ]
    },
    {
      "cell_type": "code",
      "source": [
        "X = np.concatenate((X_b, X_m), axis = 0)\n",
        "Xm = np.concatenate((Xm_b, Xm_m), axis = 0)\n",
        "y = np.concatenate((y_b,y_m), axis = 0)\n",
        "X /= 255.0\n",
        "Xm /= 255.0\n",
        "\n",
        "print(X.shape)\n",
        "print(Xm.shape)\n",
        "print(y.shape)\n"
      ],
      "metadata": {
        "colab": {
          "base_uri": "https://localhost:8080/"
        },
        "id": "ctO2RGJy93eE",
        "outputId": "d4619b76-6ef1-43ba-d631-505327b8f39f"
      },
      "execution_count": null,
      "outputs": [
        {
          "output_type": "stream",
          "name": "stdout",
          "text": [
            "(647, 128, 128, 3)\n",
            "(647, 128, 128, 3)\n",
            "(647,)\n"
          ]
        }
      ]
    },
    {
      "cell_type": "code",
      "source": [
        "masks=[]\n",
        "for i  in (Xm):\n",
        "   img1 =  np.expand_dims(i, axis=-1)\n",
        "   masks.append(img1)"
      ],
      "metadata": {
        "id": "YoHALZF5c5J4"
      },
      "execution_count": null,
      "outputs": []
    },
    {
      "cell_type": "code",
      "source": [
        "plt.subplot(121),plt.imshow(X[5],cmap = 'gray')\n",
        "\n",
        "plt.title('Original  of\" benign image\"'), plt.xticks([]), plt.yticks([])\n",
        "plt.subplot(122),plt.imshow(Xm[5],cmap = 'gray')\n",
        "plt.title('benign Masked  Image'), plt.xticks([]), plt.yticks([])\n",
        "\n",
        "plt.show()"
      ],
      "metadata": {
        "colab": {
          "base_uri": "https://localhost:8080/",
          "height": 203
        },
        "id": "t_Ymx26oYFhY",
        "outputId": "d372cfb2-f179-4f90-a955-67c4ddb97239"
      },
      "execution_count": null,
      "outputs": [
        {
          "output_type": "display_data",
          "data": {
            "text/plain": [
              "<Figure size 432x288 with 2 Axes>"
            ],
            "image/png": "[encoded data removed]"
          },
          "metadata": {}
        }
      ]
    },
    {
      "cell_type": "code",
      "source": [
        "plt.subplot(121),plt.imshow(X[500],cmap = 'gray')\n",
        "plt.title('Original  Image'), plt.xticks([]), plt.yticks([])\n",
        "plt.subplot(122),plt.imshow(Xm[500],cmap = 'gray')\n",
        "plt.title('Masked    Image'), plt.xticks([]), plt.yticks([])\n",
        "plt.show()"
      ],
      "metadata": {
        "colab": {
          "base_uri": "https://localhost:8080/",
          "height": 203
        },
        "id": "xmgHb8rKY0RT",
        "outputId": "3ea6ef7f-1bd0-4a96-ca17-e5cb6310cdf5"
      },
      "execution_count": null,
      "outputs": [
        {
          "output_type": "display_data",
          "data": {
            "text/plain": [
              "<Figure size 432x288 with 2 Axes>"
            ],
            "image/png": "[encoded data removed]"
          },
          "metadata": {}
        }
      ]
    },
    {
      "cell_type": "code",
      "source": [
        "from sklearn.model_selection import train_test_split\n",
        "\n",
        "X_train, X_test, y_train, y_test= train_test_split(Xm,y, test_size=.2, stratify=y, random_state=42)"
      ],
      "metadata": {
        "id": "VH16L-m_Od8I"
      },
      "execution_count": null,
      "outputs": []
    },
    {
      "cell_type": "markdown",
      "source": [
        "initializing CNN & add a convolutional layer "
      ],
      "metadata": {
        "id": "_tW3ekY8NAD4"
      }
    },
    {
      "cell_type": "markdown",
      "source": [
        ""
      ],
      "metadata": {
        "id": "Qn9-_lAgNlZO"
      }
    },
    {
      "cell_type": "code",
      "source": [
        "start = timeit.default_timer()"
      ],
      "metadata": {
        "id": "rjpqR1pGx5VO"
      },
      "execution_count": null,
      "outputs": []
    },
    {
      "cell_type": "code",
      "source": [
        "base_model = tf.keras.applications.VGG19(\n",
        "    include_top=False,\n",
        "    weights=\"imagenet\",\n",
        "    input_tensor=None,\n",
        "    input_shape=img_shape,\n",
        "    pooling=None\n",
        ")\n",
        "\n",
        "for l in base_model.layers:\n",
        "    l.trainable = False"
      ],
      "metadata": {
        "id": "xCCOUh7XNnQP"
      },
      "execution_count": null,
      "outputs": []
    },
    {
      "cell_type": "code",
      "source": [
        "def VGG19():\n",
        "\n",
        "    model = Sequential()\n",
        "    model.add(base_model)\n",
        "    \n",
        "    model.add(Flatten())\n",
        "    model.add(BatchNormalization())\n",
        "\n",
        "    model.add(Dense(128,activation='relu'))\n",
        "    model.add(Dropout(0.5))\n",
        "\n",
        "    model.add(Dense(3,activation='softmax'))\n",
        "    \n",
        "    model.compile(optimizer= keras.optimizers.Adam(learning_rate = 0.00005),loss= tf.keras.losses.SparseCategoricalCrossentropy(from_logits=True),metrics=['acc'])\n",
        "    \n",
        "    return model"
      ],
      "metadata": {
        "id": "qr6F4dekOALt"
      },
      "execution_count": null,
      "outputs": []
    },
    {
      "cell_type": "code",
      "source": [
        "import tensorflow as tf\n",
        "from tensorflow.keras.callbacks import EarlyStopping, ModelCheckpoint\n",
        "model = VGG19()\n",
        "model.summary()\n",
        "es = EarlyStopping(monitor='val_loss', mode='min', patience=10,restore_best_weights=True, verbose=1)\n",
        "history = model.fit(X_train,y_train,batch_size = 20,epochs=100,validation_data=(X_test, y_test),callbacks=[es])"
      ],
      "metadata": {
        "colab": {
          "base_uri": "https://localhost:8080/"
        },
        "id": "ST0s5B4IOD1P",
        "outputId": "bc173d43-96db-4145-ecbd-009c6bc64ac0"
      },
      "execution_count": null,
      "outputs": [
        {
          "output_type": "stream",
          "name": "stdout",
          "text": [
            "Model: \"sequential_5\"\n",
            "_________________________________________________________________\n",
            " Layer (type)                Output Shape              Param #   \n",
            "=================================================================\n",
            " vgg19 (Functional)          (None, 4, 4, 512)         20024384  \n",
            "                                                                 \n",
            " flatten_5 (Flatten)         (None, 8192)              0         \n",
            "                                                                 \n",
            " batch_normalization_5 (Batc  (None, 8192)             32768     \n",
            " hNormalization)                                                 \n",
            "                                                                 \n",
            " dense_16 (Dense)            (None, 128)               1048704   \n",
            "                                                                 \n",
            " dropout_11 (Dropout)        (None, 128)               0         \n",
            "                                                                 \n",
            " dense_17 (Dense)            (None, 3)                 387       \n",
            "                                                                 \n",
            "=================================================================\n",
            "Total params: 21,106,243\n",
            "Trainable params: 1,065,475\n",
            "Non-trainable params: 20,040,768\n",
            "_________________________________________________________________\n",
            "Epoch 1/100\n",
            "26/26 [==============================] - 4s 80ms/step - loss: 1.5132 - acc: 0.3946 - val_loss: 2.3837 - val_acc: 0.0000e+00\n",
            "Epoch 2/100\n",
            "26/26 [==============================] - 2s 63ms/step - loss: 0.5185 - acc: 0.8066 - val_loss: 1.7155 - val_acc: 0.0000e+00\n",
            "Epoch 3/100\n",
            "26/26 [==============================] - 2s 64ms/step - loss: 0.3056 - acc: 0.9091 - val_loss: 1.2559 - val_acc: 0.1615\n",
            "Epoch 4/100\n",
            "26/26 [==============================] - 2s 64ms/step - loss: 0.2421 - acc: 0.9323 - val_loss: 0.9046 - val_acc: 0.4231\n",
            "Epoch 5/100\n",
            "26/26 [==============================] - 2s 64ms/step - loss: 0.2252 - acc: 0.9342 - val_loss: 0.6331 - val_acc: 0.6615\n",
            "Epoch 6/100\n",
            "26/26 [==============================] - 2s 65ms/step - loss: 0.1488 - acc: 0.9613 - val_loss: 0.4605 - val_acc: 0.9308\n",
            "Epoch 7/100\n",
            "26/26 [==============================] - 2s 65ms/step - loss: 0.1387 - acc: 0.9691 - val_loss: 0.3231 - val_acc: 0.9769\n",
            "Epoch 8/100\n",
            "26/26 [==============================] - 2s 65ms/step - loss: 0.1031 - acc: 0.9729 - val_loss: 0.2358 - val_acc: 0.9692\n",
            "Epoch 9/100\n",
            "26/26 [==============================] - 2s 78ms/step - loss: 0.1043 - acc: 0.9749 - val_loss: 0.1785 - val_acc: 0.9769\n",
            "Epoch 10/100\n",
            "26/26 [==============================] - 2s 66ms/step - loss: 0.0870 - acc: 0.9768 - val_loss: 0.1365 - val_acc: 0.9769\n",
            "Epoch 11/100\n",
            "26/26 [==============================] - 2s 66ms/step - loss: 0.0676 - acc: 0.9865 - val_loss: 0.1081 - val_acc: 0.9769\n",
            "Epoch 12/100\n",
            "26/26 [==============================] - 2s 66ms/step - loss: 0.0852 - acc: 0.9749 - val_loss: 0.0940 - val_acc: 0.9769\n",
            "Epoch 13/100\n",
            "26/26 [==============================] - 2s 66ms/step - loss: 0.0707 - acc: 0.9826 - val_loss: 0.0802 - val_acc: 0.9769\n",
            "Epoch 14/100\n",
            "26/26 [==============================] - 2s 66ms/step - loss: 0.0897 - acc: 0.9710 - val_loss: 0.0687 - val_acc: 0.9769\n",
            "Epoch 15/100\n",
            "26/26 [==============================] - 2s 66ms/step - loss: 0.0767 - acc: 0.9729 - val_loss: 0.0608 - val_acc: 0.9769\n",
            "Epoch 16/100\n",
            "26/26 [==============================] - 2s 66ms/step - loss: 0.0633 - acc: 0.9826 - val_loss: 0.0558 - val_acc: 0.9846\n",
            "Epoch 17/100\n",
            "26/26 [==============================] - 2s 66ms/step - loss: 0.0716 - acc: 0.9826 - val_loss: 0.0499 - val_acc: 0.9769\n",
            "Epoch 18/100\n",
            "26/26 [==============================] - 2s 65ms/step - loss: 0.0712 - acc: 0.9691 - val_loss: 0.0464 - val_acc: 0.9769\n",
            "Epoch 19/100\n",
            "26/26 [==============================] - 2s 66ms/step - loss: 0.0521 - acc: 0.9845 - val_loss: 0.0440 - val_acc: 0.9846\n",
            "Epoch 20/100\n",
            "26/26 [==============================] - 2s 65ms/step - loss: 0.0501 - acc: 0.9903 - val_loss: 0.0424 - val_acc: 0.9923\n",
            "Epoch 21/100\n",
            "26/26 [==============================] - 2s 63ms/step - loss: 0.0534 - acc: 0.9845 - val_loss: 0.0428 - val_acc: 0.9846\n",
            "Epoch 22/100\n",
            "26/26 [==============================] - 2s 65ms/step - loss: 0.0756 - acc: 0.9787 - val_loss: 0.0405 - val_acc: 0.9923\n",
            "Epoch 23/100\n",
            "26/26 [==============================] - 2s 62ms/step - loss: 0.0796 - acc: 0.9710 - val_loss: 0.0415 - val_acc: 0.9769\n",
            "Epoch 24/100\n",
            "26/26 [==============================] - 2s 62ms/step - loss: 0.0605 - acc: 0.9845 - val_loss: 0.0419 - val_acc: 0.9769\n",
            "Epoch 25/100\n",
            "26/26 [==============================] - 2s 62ms/step - loss: 0.0381 - acc: 0.9884 - val_loss: 0.0451 - val_acc: 0.9769\n",
            "Epoch 26/100\n",
            "26/26 [==============================] - 2s 67ms/step - loss: 0.0536 - acc: 0.9787 - val_loss: 0.0405 - val_acc: 0.9846\n",
            "Epoch 27/100\n",
            "26/26 [==============================] - 2s 65ms/step - loss: 0.0345 - acc: 0.9923 - val_loss: 0.0388 - val_acc: 0.9769\n",
            "Epoch 28/100\n",
            "26/26 [==============================] - 2s 64ms/step - loss: 0.0348 - acc: 0.9903 - val_loss: 0.0382 - val_acc: 0.9846\n",
            "Epoch 29/100\n",
            "26/26 [==============================] - 2s 62ms/step - loss: 0.0424 - acc: 0.9884 - val_loss: 0.0392 - val_acc: 0.9846\n",
            "Epoch 30/100\n",
            "26/26 [==============================] - 2s 61ms/step - loss: 0.0469 - acc: 0.9826 - val_loss: 0.0388 - val_acc: 0.9769\n",
            "Epoch 31/100\n",
            "26/26 [==============================] - 2s 61ms/step - loss: 0.0348 - acc: 0.9865 - val_loss: 0.0408 - val_acc: 0.9769\n",
            "Epoch 32/100\n",
            "26/26 [==============================] - 2s 63ms/step - loss: 0.0431 - acc: 0.9865 - val_loss: 0.0366 - val_acc: 0.9769\n",
            "Epoch 33/100\n",
            "26/26 [==============================] - 2s 61ms/step - loss: 0.0318 - acc: 0.9903 - val_loss: 0.0368 - val_acc: 0.9846\n",
            "Epoch 34/100\n",
            "26/26 [==============================] - 2s 64ms/step - loss: 0.0414 - acc: 0.9903 - val_loss: 0.0326 - val_acc: 0.9846\n",
            "Epoch 35/100\n",
            "26/26 [==============================] - 2s 61ms/step - loss: 0.0342 - acc: 0.9903 - val_loss: 0.0346 - val_acc: 0.9846\n",
            "Epoch 36/100\n",
            "26/26 [==============================] - 2s 61ms/step - loss: 0.0311 - acc: 0.9903 - val_loss: 0.0337 - val_acc: 0.9923\n",
            "Epoch 37/100\n",
            "26/26 [==============================] - 2s 61ms/step - loss: 0.0421 - acc: 0.9884 - val_loss: 0.0347 - val_acc: 0.9846\n",
            "Epoch 38/100\n",
            "26/26 [==============================] - 2s 63ms/step - loss: 0.0234 - acc: 0.9961 - val_loss: 0.0318 - val_acc: 0.9846\n",
            "Epoch 39/100\n",
            "26/26 [==============================] - 2s 61ms/step - loss: 0.0282 - acc: 0.9942 - val_loss: 0.0339 - val_acc: 0.9846\n",
            "Epoch 40/100\n",
            "26/26 [==============================] - 2s 60ms/step - loss: 0.0362 - acc: 0.9903 - val_loss: 0.0366 - val_acc: 0.9846\n",
            "Epoch 41/100\n",
            "26/26 [==============================] - 2s 60ms/step - loss: 0.0201 - acc: 0.9961 - val_loss: 0.0363 - val_acc: 0.9846\n",
            "Epoch 42/100\n",
            "26/26 [==============================] - 2s 60ms/step - loss: 0.0372 - acc: 0.9923 - val_loss: 0.0349 - val_acc: 0.9923\n",
            "Epoch 43/100\n",
            "26/26 [==============================] - 2s 61ms/step - loss: 0.0280 - acc: 0.9942 - val_loss: 0.0349 - val_acc: 0.9923\n",
            "Epoch 44/100\n",
            "26/26 [==============================] - 2s 60ms/step - loss: 0.0236 - acc: 0.9942 - val_loss: 0.0351 - val_acc: 0.9846\n",
            "Epoch 45/100\n",
            "26/26 [==============================] - 2s 60ms/step - loss: 0.0225 - acc: 0.9961 - val_loss: 0.0333 - val_acc: 0.9846\n",
            "Epoch 46/100\n",
            "26/26 [==============================] - 2s 60ms/step - loss: 0.0193 - acc: 0.9961 - val_loss: 0.0319 - val_acc: 0.9923\n",
            "Epoch 47/100\n",
            "26/26 [==============================] - 2s 63ms/step - loss: 0.0345 - acc: 0.9942 - val_loss: 0.0291 - val_acc: 0.9923\n",
            "Epoch 48/100\n",
            "26/26 [==============================] - 2s 62ms/step - loss: 0.0253 - acc: 0.9923 - val_loss: 0.0323 - val_acc: 0.9923\n",
            "Epoch 49/100\n",
            "26/26 [==============================] - 2s 61ms/step - loss: 0.0225 - acc: 0.9903 - val_loss: 0.0365 - val_acc: 0.9846\n",
            "Epoch 50/100\n",
            "26/26 [==============================] - 2s 61ms/step - loss: 0.0193 - acc: 0.9942 - val_loss: 0.0406 - val_acc: 0.9846\n",
            "Epoch 51/100\n",
            "26/26 [==============================] - 2s 61ms/step - loss: 0.0161 - acc: 0.9942 - val_loss: 0.0409 - val_acc: 0.9846\n",
            "Epoch 52/100\n",
            "26/26 [==============================] - 2s 61ms/step - loss: 0.0170 - acc: 0.9942 - val_loss: 0.0364 - val_acc: 0.9846\n",
            "Epoch 53/100\n",
            "26/26 [==============================] - 2s 61ms/step - loss: 0.0240 - acc: 0.9903 - val_loss: 0.0326 - val_acc: 0.9923\n",
            "Epoch 54/100\n",
            "26/26 [==============================] - 2s 61ms/step - loss: 0.0272 - acc: 0.9923 - val_loss: 0.0369 - val_acc: 0.9846\n",
            "Epoch 55/100\n",
            "26/26 [==============================] - 2s 61ms/step - loss: 0.0125 - acc: 0.9981 - val_loss: 0.0357 - val_acc: 0.9846\n",
            "Epoch 56/100\n",
            "26/26 [==============================] - 2s 61ms/step - loss: 0.0182 - acc: 0.9981 - val_loss: 0.0353 - val_acc: 0.9923\n",
            "Epoch 57/100\n",
            "26/26 [==============================] - ETA: 0s - loss: 0.0219 - acc: 0.9961Restoring model weights from the end of the best epoch: 47.\n",
            "26/26 [==============================] - 2s 63ms/step - loss: 0.0219 - acc: 0.9961 - val_loss: 0.0351 - val_acc: 0.9923\n",
            "Epoch 57: early stopping\n"
          ]
        }
      ]
    },
    {
      "cell_type": "code",
      "source": [
        "end = timeit.default_timer()"
      ],
      "metadata": {
        "id": "XthfFLu0yBMN"
      },
      "execution_count": null,
      "outputs": []
    },
    {
      "cell_type": "code",
      "source": [
        ""
      ],
      "metadata": {
        "id": "vF_P5T7_DN1q"
      },
      "execution_count": null,
      "outputs": []
    },
    {
      "cell_type": "markdown",
      "source": [
        "Plotting loss graph"
      ],
      "metadata": {
        "id": "An3qrZfENuNv"
      }
    },
    {
      "cell_type": "markdown",
      "source": [
        ""
      ],
      "metadata": {
        "id": "u9-abCKCNzP3"
      }
    },
    {
      "cell_type": "code",
      "source": [
        "# dictionary keys seems to have changed in version 2\n",
        "k = ''\n",
        "if 'accuracy' in history.history :\n",
        "    k = 'accuracy'    \n",
        "\n",
        "if 'acc' in history.history :\n",
        "    k = 'acc'\n",
        "    \n",
        "if k != '' :    \n",
        "    plt.plot(history.history[k])\n",
        "    plt.plot(history.history['val_'+k])\n",
        "    plt.title('Model Accuracy')\n",
        "    plt.ylabel('Accuracy')\n",
        "    plt.xlabel('Epoch')\n",
        "    plt.legend(['train', 'test'], loc='upper left')\n",
        "    plt.show()"
      ],
      "metadata": {
        "colab": {
          "base_uri": "https://localhost:8080/",
          "height": 295
        },
        "id": "f8ckk_PaAqOP",
        "outputId": "2a35aa3d-feb9-4375-ec0e-9b6a152e43f5"
      },
      "execution_count": null,
      "outputs": [
        {
          "output_type": "display_data",
          "data": {
            "text/plain": [
              "<Figure size 432x288 with 1 Axes>"
            ],
            "image/png": "[encoded data removed]"
          },
          "metadata": {
            "needs_background": "light"
          }
        }
      ]
    },
    {
      "cell_type": "code",
      "source": [
        "plt.plot(history.history['loss'])\n",
        "plt.plot(history.history['val_loss'])\n",
        "plt.title('Model loss')\n",
        "plt.ylabel('Loss')\n",
        "plt.xlabel('Epoch')\n",
        "plt.legend(['train', 'test'], loc='upper left')\n",
        "plt.show()"
      ],
      "metadata": {
        "colab": {
          "base_uri": "https://localhost:8080/",
          "height": 295
        },
        "id": "vZv-h-c5A6g-",
        "outputId": "94e8386e-e1bf-4f2a-c34c-ac55fb5f76fa"
      },
      "execution_count": null,
      "outputs": [
        {
          "output_type": "display_data",
          "data": {
            "text/plain": [
              "<Figure size 432x288 with 1 Axes>"
            ],
            "image/png": "[encoded data removed]"
          },
          "metadata": {
            "needs_background": "light"
          }
        }
      ]
    },
    {
      "cell_type": "code",
      "source": [
        "\n",
        "\n",
        "# Generate generalization metrics\n",
        "\n",
        "from sklearn.metrics import accuracy_score,classification_report\n",
        "y_predictt = model.predict(X_test)\n",
        "y_predictt = y_predictt.argmax(axis=-1)\n",
        "score=accuracy_score(y_test, y_predictt)*100\n",
        "print('Accuracy of testing: \\n{0}'.format(score))\n",
        "pred = model.predict_generator(X_test)\n",
        "y_predict = pred.argmax(axis=-1)\n",
        "from sklearn.metrics import confusion_matrix\n",
        "conf_mx = confusion_matrix(y_test, y_predict)\n",
        "print('Confusion matrix of testing: \\n{0}'.format(conf_mx))\n",
        "print(classification_report(y_test, y_predict))\n",
        "print('time to VGG19 model in seconds is : \\n{0}'.format(end-start))\n",
        "\n"
      ],
      "metadata": {
        "colab": {
          "base_uri": "https://localhost:8080/"
        },
        "id": "t37O_4DSPbbL",
        "outputId": "04c16aee-06d4-4e23-d60f-5967a314892b"
      },
      "execution_count": null,
      "outputs": [
        {
          "output_type": "stream",
          "name": "stdout",
          "text": [
            "Accuracy of testing: \n",
            "99.23076923076923\n",
            "Confusion matrix of testing: \n",
            "[[88  0]\n",
            " [ 1 41]]\n",
            "              precision    recall  f1-score   support\n",
            "\n",
            "           1       0.99      1.00      0.99        88\n",
            "           2       1.00      0.98      0.99        42\n",
            "\n",
            "    accuracy                           0.99       130\n",
            "   macro avg       0.99      0.99      0.99       130\n",
            "weighted avg       0.99      0.99      0.99       130\n",
            "\n",
            "time to VGG19 model in seconds is : \n",
            "1326.5997226860004\n"
          ]
        }
      ]
    },
    {
      "cell_type": "code",
      "source": [
        "model.save(\"VGG19_MASKED_Model_BINARY.h5\")"
      ],
      "metadata": {
        "id": "x3gUS9pSRQlQ"
      },
      "execution_count": null,
      "outputs": []
    },
    {
      "cell_type": "code",
      "source": [
        ""
      ],
      "metadata": {
        "id": "tcbtjgGxk289"
      },
      "execution_count": null,
      "outputs": []
    }
  ]
}