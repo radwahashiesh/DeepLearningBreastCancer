{
  "nbformat": 4,
  "nbformat_minor": 0,
  "metadata": {
    "colab": {
      "name": "mlpMask.ipynb",
      "provenance": [],
      "collapsed_sections": [],
      "mount_file_id": "1rhYzQ5luGzkROsnbvKHm5KVRw29Y-hne",
      "authorship_tag": "ABX9TyOxDXqg3kQxH2n8knd3ZjCw",
      "include_colab_link": true
    },
    "kernelspec": {
      "name": "python3",
      "display_name": "Python 3"
    },
    "language_info": {
      "name": "python"
    },
    "accelerator": "GPU",
    "gpuClass": "standard"
  },
  "cells": [
    {
      "cell_type": "markdown",
      "metadata": {
        "id": "view-in-github",
        "colab_type": "text"
      },
      "source": [
        "<a href=\"https://colab.research.google.com/github/radwahashiesh/DeepLearningBreastCancer/blob/main/mlpMask.ipynb\" target=\"_parent\"><img src=\"https://colab.research.google.com/assets/colab-badge.svg\" alt=\"Open In Colab\"/></a>"
      ]
    },
    {
      "cell_type": "code",
      "execution_count": 319,
      "metadata": {
        "id": "16fDcWvz4tQv"
      },
      "outputs": [],
      "source": [
        "import numpy as np \n",
        "import pandas as pd\n",
        "import os\n",
        "from tensorflow import keras\n",
        "import cv2\n",
        "from sklearn.metrics import accuracy_score, confusion_matrix, roc_curve, roc_auc_score, classification_report\n",
        "from tensorflow.keras.preprocessing.image import load_img ,img_to_array\n",
        "import matplotlib.pyplot as plt\n",
        "from tensorflow.keras.models import Sequential \n",
        "from tensorflow.keras.layers import Conv2D\n",
        "from tensorflow.keras.layers import MaxPooling2D,AveragePooling2D,BatchNormalization\n",
        "from tensorflow.keras.layers import Dense,Activation\n",
        "from tensorflow.keras.layers import Flatten,Dropout,SpatialDropout2D,AveragePooling2D,GlobalAveragePooling2D\n",
        "from tensorflow.keras.optimizers import SGD\n",
        "from tensorflow.keras.optimizers import Adam\n",
        "import tensorflow as tf\n",
        "import tensorflow.keras\n",
        "from tensorflow.keras.models import Sequential\n",
        "from tensorflow.keras.layers import Dense, Flatten, Conv2D, MaxPooling2D\n",
        "# from tensorflow.keras import backend as K\n",
        "# Common imports\n",
        "import numpy as np\n",
        "import os\n",
        "import timeit\n",
        "from sklearn.neural_network import MLPClassifier\n",
        " "
      ]
    },
    {
      "cell_type": "code",
      "source": [
        "import warnings\n",
        "warnings.filterwarnings(\"ignore\")"
      ],
      "metadata": {
        "id": "nFv44vhZzntZ"
      },
      "execution_count": 320,
      "outputs": []
    },
    {
      "cell_type": "code",
      "source": [
        "path = \"/content/drive/MyDrive/Dataset_BUSI_with_GT (2)\"\n",
        "dir_list = [os.path.join(path,i) for i in os.listdir(path)]\n",
        "size_dict = {}\n",
        "for i,value in enumerate(dir_list):\n",
        "    size_dict[os.listdir(path)[i]] = len(os.listdir(value))\n",
        "size_dict "
      ],
      "metadata": {
        "colab": {
          "base_uri": "https://localhost:8080/"
        },
        "id": "j5Gf1QsLANRA",
        "outputId": "9ce7363b-999e-4b5c-eec9-1eb9dcfb7c27"
      },
      "execution_count": 321,
      "outputs": [
        {
          "output_type": "execute_result",
          "data": {
            "text/plain": [
              "{'benign': 891, 'malignant': 421, 'normal': 266}"
            ]
          },
          "metadata": {},
          "execution_count": 321
        }
      ]
    },
    {
      "cell_type": "code",
      "source": [
        "import re\n",
        "def clean(name):\n",
        "    name = re.sub('[benign ().p]','',str(name))\n",
        "    return name"
      ],
      "metadata": {
        "id": "tyAGab8NAP9k"
      },
      "execution_count": 322,
      "outputs": []
    },
    {
      "cell_type": "code",
      "source": [
        "df = pd.DataFrame(os.listdir(dir_list[0]))\n",
        "# df = df.apply(str,axis=1)\n",
        "df = df[0].apply(clean)\n",
        "# print(df.info())\n",
        "df = df[~df.str.contains('mask',regex =False)]\n",
        "df = df.apply(str)\n",
        "df_list = list(df)\n",
        "type(df_list)\n",
        "df_list.sort()\n",
        "print(len(df_list))"
      ],
      "metadata": {
        "colab": {
          "base_uri": "https://localhost:8080/"
        },
        "id": "3lHXR6GOBNKP",
        "outputId": "d4fe8b7b-0bf1-4b9d-d757-3e0b9cb58ac3"
      },
      "execution_count": 323,
      "outputs": [
        {
          "output_type": "stream",
          "name": "stdout",
          "text": [
            "210\n"
          ]
        }
      ]
    },
    {
      "cell_type": "code",
      "source": [
        "img_size = 128\n",
        "img_channel = 3\n",
        "X_b , Xm_b , y_b = np.zeros((437,img_size,img_size,img_channel)) , np.zeros((437,img_size,img_size,img_channel)) , np.full(437,1) \n",
        "X_n , Xm_n , y_n = np.zeros((133,img_size,img_size,img_channel)) , np.zeros((133,img_size,img_size,img_channel)) , np.full(133,0) \n",
        "X_m , Xm_m , y_m = np.zeros((210,img_size,img_size,img_channel)) , np.zeros((210,img_size,img_size,img_channel)) , np.full(210,2)"
      ],
      "metadata": {
        "id": "wI7V8FMn9ytM"
      },
      "execution_count": 324,
      "outputs": []
    },
    {
      "cell_type": "code",
      "source": [
        "img1_path = os.path.join(os.path.join(path,'benign'),os.listdir(os.path.join(path,'benign'))[1])\n",
        "\n",
        "pil_img = load_img(img1_path,color_mode = 'rgb',target_size=(img_size,img_size))\n",
        "img = img_to_array(pil_img)\n",
        "img_shape = img.shape\n",
        "print(img_shape)\n",
        "\n",
        "def img_num(filename):\n",
        "    \n",
        "    val = 0\n",
        "    \n",
        "    for i in range(len(filename)) :\n",
        "        if filename[i] == '(' :\n",
        "            while True :\n",
        "                i += 1\n",
        "                if filename[i] == ')' :\n",
        "                    break\n",
        "                val = (val*10) + int(filename[i])\n",
        "            break\n",
        "    \n",
        "    return val\n",
        "\n",
        "for tumor_path in dir_list :\n",
        "    for image in os.listdir(tumor_path) :\n",
        "        p = os.path.join(tumor_path, image)\n",
        "        pil_img = load_img(p,color_mode = 'rgb',target_size=(img_size,img_size))         # read image as  grayscale ans resize it\n",
        "        \n",
        "        if image[-5] == ')' :                                   #if real image \n",
        "            \n",
        "            if image[0] == 'b' :\n",
        "                X_b[img_num(image)-1]+= img_to_array(pil_img)  # If image is real add it\n",
        "            if image[0] == 'n' :                               # to X as benign , normal\n",
        "                X_n[img_num(image)-1]+= img_to_array(pil_img)  # or malignant.\n",
        "            if image[0] == 'm' :\n",
        "                X_m[img_num(image)-1]+= img_to_array(pil_img)\n",
        "        else :                                                 #else masked image\n",
        "            \n",
        "            if image[0] == 'b' :\n",
        "                Xm_b[img_num(image)-1]+= img_to_array(pil_img)  # Similarly add the target\n",
        "            if image[0] == 'n' :                               # mask to y.\n",
        "                Xm_n[img_num(image)-1]+= img_to_array(pil_img)\n",
        "            if image[0] == 'm' :\n",
        "                Xm_m[img_num(image)-1]+= img_to_array(pil_img)"
      ],
      "metadata": {
        "colab": {
          "base_uri": "https://localhost:8080/"
        },
        "id": "xSN_RwzR91ZN",
        "outputId": "a3099efa-f9bf-4623-8202-b7f5384c7b2c"
      },
      "execution_count": 325,
      "outputs": [
        {
          "output_type": "stream",
          "name": "stdout",
          "text": [
            "(128, 128, 3)\n"
          ]
        }
      ]
    },
    {
      "cell_type": "code",
      "source": [
        "X = np.concatenate((X_b, X_n, X_m), axis = 0)\n",
        "Xm = np.concatenate((Xm_b, Xm_n, Xm_m), axis = 0)\n",
        "y = np.concatenate((y_b, y_n, y_m), axis = 0)\n",
        "X /= 255.0\n",
        "Xm /= 255.0\n",
        "\n",
        "print(X.shape)\n",
        "print(Xm.shape)\n",
        "print(y.shape)\n"
      ],
      "metadata": {
        "colab": {
          "base_uri": "https://localhost:8080/"
        },
        "id": "ctO2RGJy93eE",
        "outputId": "0a37c2cd-b2c0-4656-c25b-1ca594bbaeaa"
      },
      "execution_count": 326,
      "outputs": [
        {
          "output_type": "stream",
          "name": "stdout",
          "text": [
            "(780, 128, 128, 3)\n",
            "(780, 128, 128, 3)\n",
            "(780,)\n"
          ]
        }
      ]
    },
    {
      "cell_type": "code",
      "source": [
        "masks=[]\n",
        "for i  in (Xm):\n",
        "   img1 =  np.expand_dims(i, axis=-1)\n",
        "   masks.append(img1)"
      ],
      "metadata": {
        "id": "YoHALZF5c5J4"
      },
      "execution_count": 327,
      "outputs": []
    },
    {
      "cell_type": "code",
      "source": [
        "plt.subplot(121),plt.imshow(X[5],cmap = 'gray')\n",
        "\n",
        "plt.title('Original  of\" benign image\"'), plt.xticks([]), plt.yticks([])\n",
        "plt.subplot(122),plt.imshow(Xm[5],cmap = 'gray')\n",
        "plt.title('benign Masked  Image'), plt.xticks([]), plt.yticks([])\n",
        "\n",
        "plt.show()"
      ],
      "metadata": {
        "colab": {
          "base_uri": "https://localhost:8080/",
          "height": 203
        },
        "id": "t_Ymx26oYFhY",
        "outputId": "67ecaec0-7eae-46ca-8a5d-26395e13f2cf"
      },
      "execution_count": 328,
      "outputs": [
        {
          "output_type": "display_data",
          "data": {
            "text/plain": [
              "<Figure size 432x288 with 2 Axes>"
            ],
            "image/png": "[encoded data removed]"
          },
          "metadata": {}
        }
      ]
    },
    {
      "cell_type": "code",
      "source": [
        "plt.subplot(121),plt.imshow(X[500],cmap = 'gray')\n",
        "plt.title('Original normal Image'), plt.xticks([]), plt.yticks([])\n",
        "plt.subplot(122),plt.imshow(Xm[500],cmap = 'gray')\n",
        "plt.title('Masked    Image'), plt.xticks([]), plt.yticks([])\n",
        "plt.show()"
      ],
      "metadata": {
        "colab": {
          "base_uri": "https://localhost:8080/",
          "height": 203
        },
        "id": "xmgHb8rKY0RT",
        "outputId": "a5b303e9-5d7c-495e-d675-e3731b95eab5"
      },
      "execution_count": 329,
      "outputs": [
        {
          "output_type": "display_data",
          "data": {
            "text/plain": [
              "<Figure size 432x288 with 2 Axes>"
            ],
            "image/png": "[encoded data removed]"
          },
          "metadata": {}
        }
      ]
    },
    {
      "cell_type": "code",
      "source": [
        "from sklearn.model_selection import train_test_split\n",
        "image=[]\n",
        "for i in Xm:\n",
        "  image.append(i.flatten())\n",
        "\n",
        "X_train, X_test, y_train, y_test= train_test_split(image,y, test_size=.2, stratify=y, random_state=42)"
      ],
      "metadata": {
        "id": "VH16L-m_Od8I"
      },
      "execution_count": 330,
      "outputs": []
    },
    {
      "cell_type": "markdown",
      "source": [
        "initializing CNN & add a convolutional layer "
      ],
      "metadata": {
        "id": "_tW3ekY8NAD4"
      }
    },
    {
      "cell_type": "code",
      "source": [
        "start = timeit.default_timer()"
      ],
      "metadata": {
        "id": "rjpqR1pGx5VO"
      },
      "execution_count": 331,
      "outputs": []
    },
    {
      "cell_type": "code",
      "source": [
        "from sklearn.neural_network import MLPClassifier\n",
        "mlp = MLPClassifier(max_iter=100,solver='sgd',verbose='true',hidden_layer_sizes=(50,100,50),)\n",
        "mlp.fit(X_train, y_train)"
      ],
      "metadata": {
        "colab": {
          "base_uri": "https://localhost:8080/"
        },
        "id": "wiC8tcvJDMIN",
        "outputId": "7b7e5b61-d358-4070-afe9-7b4aff2e601b"
      },
      "execution_count": 332,
      "outputs": [
        {
          "output_type": "stream",
          "name": "stdout",
          "text": [
            "Iteration 1, loss = 1.16534785\n",
            "Iteration 2, loss = 1.06014672\n",
            "Iteration 3, loss = 0.98692598\n",
            "Iteration 4, loss = 0.91425470\n",
            "Iteration 5, loss = 0.86266033\n",
            "Iteration 6, loss = 0.81693917\n",
            "Iteration 7, loss = 0.78285631\n",
            "Iteration 8, loss = 0.75642939\n",
            "Iteration 9, loss = 0.73695910\n",
            "Iteration 10, loss = 0.71223713\n",
            "Iteration 11, loss = 0.69247641\n",
            "Iteration 12, loss = 0.68776988\n",
            "Iteration 13, loss = 0.66911217\n",
            "Iteration 14, loss = 0.65467535\n",
            "Iteration 15, loss = 0.63875993\n",
            "Iteration 16, loss = 0.62125924\n",
            "Iteration 17, loss = 0.61517894\n",
            "Iteration 18, loss = 0.59948466\n",
            "Iteration 19, loss = 0.58715711\n",
            "Iteration 20, loss = 0.58684740\n",
            "Iteration 21, loss = 0.57073102\n",
            "Iteration 22, loss = 0.56036952\n",
            "Iteration 23, loss = 0.55352185\n",
            "Iteration 24, loss = 0.54208309\n",
            "Iteration 25, loss = 0.53661196\n",
            "Iteration 26, loss = 0.52237847\n",
            "Iteration 27, loss = 0.51414638\n",
            "Iteration 28, loss = 0.51407219\n",
            "Iteration 29, loss = 0.50029964\n",
            "Iteration 30, loss = 0.50027226\n",
            "Iteration 31, loss = 0.48324713\n",
            "Iteration 32, loss = 0.47622731\n",
            "Iteration 33, loss = 0.47186296\n",
            "Iteration 34, loss = 0.46482477\n",
            "Iteration 35, loss = 0.45310136\n",
            "Iteration 36, loss = 0.44653086\n",
            "Iteration 37, loss = 0.43662628\n",
            "Iteration 38, loss = 0.44406088\n",
            "Iteration 39, loss = 0.42675040\n",
            "Iteration 40, loss = 0.41803135\n",
            "Iteration 41, loss = 0.40896290\n",
            "Iteration 42, loss = 0.40470901\n",
            "Iteration 43, loss = 0.39619432\n",
            "Iteration 44, loss = 0.39723363\n",
            "Iteration 45, loss = 0.38761963\n",
            "Iteration 46, loss = 0.38651162\n",
            "Iteration 47, loss = 0.38334433\n",
            "Iteration 48, loss = 0.37236566\n",
            "Iteration 49, loss = 0.35618727\n",
            "Iteration 50, loss = 0.35233780\n",
            "Iteration 51, loss = 0.34603201\n",
            "Iteration 52, loss = 0.33914905\n",
            "Iteration 53, loss = 0.33331912\n",
            "Iteration 54, loss = 0.35735638\n",
            "Iteration 55, loss = 0.32716850\n",
            "Iteration 56, loss = 0.32057683\n",
            "Iteration 57, loss = 0.30961809\n",
            "Iteration 58, loss = 0.31579614\n",
            "Iteration 59, loss = 0.30198093\n",
            "Iteration 60, loss = 0.29684908\n",
            "Iteration 61, loss = 0.29048465\n",
            "Iteration 62, loss = 0.28225385\n",
            "Iteration 63, loss = 0.27724450\n",
            "Iteration 64, loss = 0.27652453\n",
            "Iteration 65, loss = 0.26948957\n",
            "Iteration 66, loss = 0.26520631\n",
            "Iteration 67, loss = 0.25981152\n",
            "Iteration 68, loss = 0.25584260\n",
            "Iteration 69, loss = 0.25165280\n",
            "Iteration 70, loss = 0.24712209\n",
            "Iteration 71, loss = 0.24653743\n",
            "Iteration 72, loss = 0.23752527\n",
            "Iteration 73, loss = 0.23711223\n",
            "Iteration 74, loss = 0.22779547\n",
            "Iteration 75, loss = 0.22412153\n",
            "Iteration 76, loss = 0.22114985\n",
            "Iteration 77, loss = 0.21875956\n",
            "Iteration 78, loss = 0.22115046\n",
            "Iteration 79, loss = 0.20901998\n",
            "Iteration 80, loss = 0.20353477\n",
            "Iteration 81, loss = 0.20072967\n",
            "Iteration 82, loss = 0.19614851\n",
            "Iteration 83, loss = 0.19694971\n",
            "Iteration 84, loss = 0.19129312\n",
            "Iteration 85, loss = 0.18789652\n",
            "Iteration 86, loss = 0.18391627\n",
            "Iteration 87, loss = 0.17927588\n",
            "Iteration 88, loss = 0.17579261\n",
            "Iteration 89, loss = 0.17226333\n",
            "Iteration 90, loss = 0.16889623\n",
            "Iteration 91, loss = 0.16639281\n",
            "Iteration 92, loss = 0.16335207\n",
            "Iteration 93, loss = 0.15967170\n",
            "Iteration 94, loss = 0.15726659\n",
            "Iteration 95, loss = 0.15654609\n",
            "Iteration 96, loss = 0.15238008\n",
            "Iteration 97, loss = 0.14942603\n",
            "Iteration 98, loss = 0.14680882\n",
            "Iteration 99, loss = 0.14443866\n",
            "Iteration 100, loss = 0.14264168\n"
          ]
        },
        {
          "output_type": "execute_result",
          "data": {
            "text/plain": [
              "MLPClassifier(hidden_layer_sizes=(50, 100, 50), max_iter=100, solver='sgd',\n",
              "              verbose='true')"
            ]
          },
          "metadata": {},
          "execution_count": 332
        }
      ]
    },
    {
      "cell_type": "code",
      "source": [
        "end = timeit.default_timer()"
      ],
      "metadata": {
        "id": "XthfFLu0yBMN"
      },
      "execution_count": 333,
      "outputs": []
    },
    {
      "cell_type": "code",
      "source": [
        "from sklearn.metrics import accuracy_score\n",
        "\n",
        "y_pred = mlp.predict(X_train)\n",
        "y_pred_test = mlp.predict(X_test)\n",
        "print('Classifier accuracy on the training set is {0} '.format(accuracy_score(y_train, y_pred)))\n",
        "print('Classifier accuracy on the test set is {0} '.format(accuracy_score(y_test, y_pred_test)))"
      ],
      "metadata": {
        "colab": {
          "base_uri": "https://localhost:8080/"
        },
        "id": "vF_P5T7_DN1q",
        "outputId": "9b9b3a2b-8725-4f94-81aa-272683b1ee35"
      },
      "execution_count": 334,
      "outputs": [
        {
          "output_type": "stream",
          "name": "stdout",
          "text": [
            "Classifier accuracy on the training set is 0.9967948717948718 \n",
            "Classifier accuracy on the test set is 0.8012820512820513 \n"
          ]
        }
      ]
    },
    {
      "cell_type": "markdown",
      "source": [
        "Plotting loss graph"
      ],
      "metadata": {
        "id": "An3qrZfENuNv"
      }
    },
    {
      "cell_type": "markdown",
      "source": [
        ""
      ],
      "metadata": {
        "id": "u9-abCKCNzP3"
      }
    },
    {
      "cell_type": "code",
      "source": [
        "\n",
        "from sklearn.metrics import confusion_matrix\n",
        "conf_mx = confusion_matrix(y_test, y_pred_test)\n",
        "print('Confusion matrix of testing: \\n{0}'.format(conf_mx))\n",
        "print('classification_report is')\n",
        "print(classification_report(y_test, y_pred_test))\n",
        "print('time to mlp model in seconds is : \\n{0}'.format(end-start))"
      ],
      "metadata": {
        "colab": {
          "base_uri": "https://localhost:8080/"
        },
        "id": "qDlssrJmSorn",
        "outputId": "9c7ff0f6-6a88-4654-ab2c-e8ab5fa375b9"
      },
      "execution_count": 335,
      "outputs": [
        {
          "output_type": "stream",
          "name": "stdout",
          "text": [
            "Confusion matrix of testing: \n",
            "[[27  0  0]\n",
            " [ 0 75 12]\n",
            " [ 0 19 23]]\n",
            "classification_report is\n",
            "              precision    recall  f1-score   support\n",
            "\n",
            "           0       1.00      1.00      1.00        27\n",
            "           1       0.80      0.86      0.83        87\n",
            "           2       0.66      0.55      0.60        42\n",
            "\n",
            "    accuracy                           0.80       156\n",
            "   macro avg       0.82      0.80      0.81       156\n",
            "weighted avg       0.79      0.80      0.80       156\n",
            "\n",
            "time to mlp model in seconds is : \n",
            "60.31145510599981\n"
          ]
        }
      ]
    },
    {
      "cell_type": "code",
      "source": [
        ""
      ],
      "metadata": {
        "id": "f8ckk_PaAqOP"
      },
      "execution_count": 335,
      "outputs": []
    },
    {
      "cell_type": "code",
      "source": [
        ""
      ],
      "metadata": {
        "id": "vZv-h-c5A6g-"
      },
      "execution_count": 335,
      "outputs": []
    }
  ]
}